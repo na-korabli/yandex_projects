{
 "cells": [
  {
   "cell_type": "markdown",
   "metadata": {},
   "source": [
    "# Описание проекта"
   ]
  },
  {
   "cell_type": "markdown",
   "metadata": {},
   "source": [
    "Мы стажируемся в отделе аналитики Яндекс.Афиши. Задание: помочь маркетологам оптимизировать маркетинговые затраты.\n",
    "У нас в распоряжении есть данные от Яндекс.Афиши с июня 2017 по конец мая 2018 года:\n",
    "- лог сервера с данными о посещениях сайта Яндекс.Афиши,\n",
    "- выгрузка всех заказов за этот период,\n",
    "- статистика рекламных расходов."
   ]
  },
  {
   "cell_type": "markdown",
   "metadata": {},
   "source": [
    "# Загрузим данные и подготовим их к анализу"
   ]
  },
  {
   "cell_type": "code",
   "execution_count": 1,
   "metadata": {},
   "outputs": [],
   "source": [
    "#импортируем библиотеки\n",
    "import pandas as pd\n",
    "import numpy as np\n",
    "import matplotlib.pyplot as plt\n",
    "from matplotlib import pyplot as plt\n",
    "import seaborn as sns"
   ]
  },
  {
   "cell_type": "code",
   "execution_count": 2,
   "metadata": {},
   "outputs": [],
   "source": [
    "visits = pd.read_csv('/datasets/visits_log.csv') #загрузим данные о визитах\n",
    "orders = pd.read_csv('/datasets/orders_log.csv') #загрузим данные о заказах\n",
    "costs = pd.read_csv('/datasets/costs.csv') #загрузим данные о расходах"
   ]
  },
  {
   "cell_type": "markdown",
   "metadata": {},
   "source": [
    "изучим и подготовим таблицу 'visits'"
   ]
  },
  {
   "cell_type": "code",
   "execution_count": 3,
   "metadata": {},
   "outputs": [
    {
     "name": "stdout",
     "output_type": "stream",
     "text": [
      "<class 'pandas.core.frame.DataFrame'>\n",
      "RangeIndex: 359400 entries, 0 to 359399\n",
      "Data columns (total 5 columns):\n",
      "Device       359400 non-null object\n",
      "End Ts       359400 non-null object\n",
      "Source Id    359400 non-null int64\n",
      "Start Ts     359400 non-null object\n",
      "Uid          359400 non-null uint64\n",
      "dtypes: int64(1), object(3), uint64(1)\n",
      "memory usage: 13.7+ MB\n"
     ]
    },
    {
     "data": {
      "text/html": [
       "<div>\n",
       "<style scoped>\n",
       "    .dataframe tbody tr th:only-of-type {\n",
       "        vertical-align: middle;\n",
       "    }\n",
       "\n",
       "    .dataframe tbody tr th {\n",
       "        vertical-align: top;\n",
       "    }\n",
       "\n",
       "    .dataframe thead th {\n",
       "        text-align: right;\n",
       "    }\n",
       "</style>\n",
       "<table border=\"1\" class=\"dataframe\">\n",
       "  <thead>\n",
       "    <tr style=\"text-align: right;\">\n",
       "      <th></th>\n",
       "      <th>Device</th>\n",
       "      <th>End Ts</th>\n",
       "      <th>Source Id</th>\n",
       "      <th>Start Ts</th>\n",
       "      <th>Uid</th>\n",
       "    </tr>\n",
       "  </thead>\n",
       "  <tbody>\n",
       "    <tr>\n",
       "      <td>0</td>\n",
       "      <td>touch</td>\n",
       "      <td>2017-12-20 17:38:00</td>\n",
       "      <td>4</td>\n",
       "      <td>2017-12-20 17:20:00</td>\n",
       "      <td>16879256277535980062</td>\n",
       "    </tr>\n",
       "    <tr>\n",
       "      <td>1</td>\n",
       "      <td>desktop</td>\n",
       "      <td>2018-02-19 17:21:00</td>\n",
       "      <td>2</td>\n",
       "      <td>2018-02-19 16:53:00</td>\n",
       "      <td>104060357244891740</td>\n",
       "    </tr>\n",
       "    <tr>\n",
       "      <td>2</td>\n",
       "      <td>touch</td>\n",
       "      <td>2017-07-01 01:54:00</td>\n",
       "      <td>5</td>\n",
       "      <td>2017-07-01 01:54:00</td>\n",
       "      <td>7459035603376831527</td>\n",
       "    </tr>\n",
       "    <tr>\n",
       "      <td>3</td>\n",
       "      <td>desktop</td>\n",
       "      <td>2018-05-20 11:23:00</td>\n",
       "      <td>9</td>\n",
       "      <td>2018-05-20 10:59:00</td>\n",
       "      <td>16174680259334210214</td>\n",
       "    </tr>\n",
       "    <tr>\n",
       "      <td>4</td>\n",
       "      <td>desktop</td>\n",
       "      <td>2017-12-27 14:06:00</td>\n",
       "      <td>3</td>\n",
       "      <td>2017-12-27 14:06:00</td>\n",
       "      <td>9969694820036681168</td>\n",
       "    </tr>\n",
       "  </tbody>\n",
       "</table>\n",
       "</div>"
      ],
      "text/plain": [
       "    Device               End Ts  Source Id             Start Ts  \\\n",
       "0    touch  2017-12-20 17:38:00          4  2017-12-20 17:20:00   \n",
       "1  desktop  2018-02-19 17:21:00          2  2018-02-19 16:53:00   \n",
       "2    touch  2017-07-01 01:54:00          5  2017-07-01 01:54:00   \n",
       "3  desktop  2018-05-20 11:23:00          9  2018-05-20 10:59:00   \n",
       "4  desktop  2017-12-27 14:06:00          3  2017-12-27 14:06:00   \n",
       "\n",
       "                    Uid  \n",
       "0  16879256277535980062  \n",
       "1    104060357244891740  \n",
       "2   7459035603376831527  \n",
       "3  16174680259334210214  \n",
       "4   9969694820036681168  "
      ]
     },
     "execution_count": 3,
     "metadata": {},
     "output_type": "execute_result"
    }
   ],
   "source": [
    "visits.info() #выведем общую информацию о таблице\n",
    "visits.head()"
   ]
  },
  {
   "cell_type": "markdown",
   "metadata": {},
   "source": [
    "В таблице 'visits' 5 столбцов, представленных типами данных int64(1), object(3), uint64(1)."
   ]
  },
  {
   "cell_type": "code",
   "execution_count": 4,
   "metadata": {},
   "outputs": [],
   "source": [
    "#переименуем столбцы\n",
    "visits = visits.rename(columns={'End Ts': 'session_end', 'Start Ts': 'session_start', 'Source Id': 'source_id'})\n",
    "visits.columns = visits.columns.str.lower()"
   ]
  },
  {
   "cell_type": "code",
   "execution_count": 5,
   "metadata": {},
   "outputs": [],
   "source": [
    "#изменим тип данных столбцов 'session_end' и 'session_start' на дату\n",
    "visits['session_start'] = pd.to_datetime(visits['session_start'])\n",
    "visits['session_end'] = pd.to_datetime(visits['session_end'])"
   ]
  },
  {
   "cell_type": "code",
   "execution_count": 6,
   "metadata": {},
   "outputs": [],
   "source": [
    "#напишем функцию для добавления столбца 'session_id'\n",
    "id_counter = 1\n",
    "    \n",
    "def do_id(data):\n",
    "    global id_counter\n",
    "    id_to_return = id_counter\n",
    "    id_counter = id_counter + 1\n",
    "    return id_to_return\n",
    "\n",
    "visits['session_id'] = visits.apply(do_id, axis=1)"
   ]
  },
  {
   "cell_type": "code",
   "execution_count": 7,
   "metadata": {},
   "outputs": [
    {
     "data": {
      "text/html": [
       "<div>\n",
       "<style scoped>\n",
       "    .dataframe tbody tr th:only-of-type {\n",
       "        vertical-align: middle;\n",
       "    }\n",
       "\n",
       "    .dataframe tbody tr th {\n",
       "        vertical-align: top;\n",
       "    }\n",
       "\n",
       "    .dataframe thead th {\n",
       "        text-align: right;\n",
       "    }\n",
       "</style>\n",
       "<table border=\"1\" class=\"dataframe\">\n",
       "  <thead>\n",
       "    <tr style=\"text-align: right;\">\n",
       "      <th></th>\n",
       "      <th>device</th>\n",
       "      <th>session_end</th>\n",
       "      <th>source_id</th>\n",
       "      <th>session_start</th>\n",
       "      <th>uid</th>\n",
       "      <th>session_id</th>\n",
       "    </tr>\n",
       "  </thead>\n",
       "  <tbody>\n",
       "    <tr>\n",
       "      <td>0</td>\n",
       "      <td>touch</td>\n",
       "      <td>2017-12-20 17:38:00</td>\n",
       "      <td>4</td>\n",
       "      <td>2017-12-20 17:20:00</td>\n",
       "      <td>16879256277535980062</td>\n",
       "      <td>1</td>\n",
       "    </tr>\n",
       "    <tr>\n",
       "      <td>1</td>\n",
       "      <td>desktop</td>\n",
       "      <td>2018-02-19 17:21:00</td>\n",
       "      <td>2</td>\n",
       "      <td>2018-02-19 16:53:00</td>\n",
       "      <td>104060357244891740</td>\n",
       "      <td>2</td>\n",
       "    </tr>\n",
       "    <tr>\n",
       "      <td>2</td>\n",
       "      <td>touch</td>\n",
       "      <td>2017-07-01 01:54:00</td>\n",
       "      <td>5</td>\n",
       "      <td>2017-07-01 01:54:00</td>\n",
       "      <td>7459035603376831527</td>\n",
       "      <td>3</td>\n",
       "    </tr>\n",
       "    <tr>\n",
       "      <td>3</td>\n",
       "      <td>desktop</td>\n",
       "      <td>2018-05-20 11:23:00</td>\n",
       "      <td>9</td>\n",
       "      <td>2018-05-20 10:59:00</td>\n",
       "      <td>16174680259334210214</td>\n",
       "      <td>4</td>\n",
       "    </tr>\n",
       "    <tr>\n",
       "      <td>4</td>\n",
       "      <td>desktop</td>\n",
       "      <td>2017-12-27 14:06:00</td>\n",
       "      <td>3</td>\n",
       "      <td>2017-12-27 14:06:00</td>\n",
       "      <td>9969694820036681168</td>\n",
       "      <td>5</td>\n",
       "    </tr>\n",
       "  </tbody>\n",
       "</table>\n",
       "</div>"
      ],
      "text/plain": [
       "    device         session_end  source_id       session_start  \\\n",
       "0    touch 2017-12-20 17:38:00          4 2017-12-20 17:20:00   \n",
       "1  desktop 2018-02-19 17:21:00          2 2018-02-19 16:53:00   \n",
       "2    touch 2017-07-01 01:54:00          5 2017-07-01 01:54:00   \n",
       "3  desktop 2018-05-20 11:23:00          9 2018-05-20 10:59:00   \n",
       "4  desktop 2017-12-27 14:06:00          3 2017-12-27 14:06:00   \n",
       "\n",
       "                    uid  session_id  \n",
       "0  16879256277535980062           1  \n",
       "1    104060357244891740           2  \n",
       "2   7459035603376831527           3  \n",
       "3  16174680259334210214           4  \n",
       "4   9969694820036681168           5  "
      ]
     },
     "execution_count": 7,
     "metadata": {},
     "output_type": "execute_result"
    }
   ],
   "source": [
    "visits.head()"
   ]
  },
  {
   "cell_type": "markdown",
   "metadata": {},
   "source": [
    "изучим и подготовим таблицу 'orders'"
   ]
  },
  {
   "cell_type": "code",
   "execution_count": 8,
   "metadata": {},
   "outputs": [
    {
     "name": "stdout",
     "output_type": "stream",
     "text": [
      "<class 'pandas.core.frame.DataFrame'>\n",
      "RangeIndex: 50415 entries, 0 to 50414\n",
      "Data columns (total 3 columns):\n",
      "Buy Ts     50415 non-null object\n",
      "Revenue    50415 non-null float64\n",
      "Uid        50415 non-null uint64\n",
      "dtypes: float64(1), object(1), uint64(1)\n",
      "memory usage: 1.2+ MB\n"
     ]
    },
    {
     "data": {
      "text/html": [
       "<div>\n",
       "<style scoped>\n",
       "    .dataframe tbody tr th:only-of-type {\n",
       "        vertical-align: middle;\n",
       "    }\n",
       "\n",
       "    .dataframe tbody tr th {\n",
       "        vertical-align: top;\n",
       "    }\n",
       "\n",
       "    .dataframe thead th {\n",
       "        text-align: right;\n",
       "    }\n",
       "</style>\n",
       "<table border=\"1\" class=\"dataframe\">\n",
       "  <thead>\n",
       "    <tr style=\"text-align: right;\">\n",
       "      <th></th>\n",
       "      <th>Buy Ts</th>\n",
       "      <th>Revenue</th>\n",
       "      <th>Uid</th>\n",
       "    </tr>\n",
       "  </thead>\n",
       "  <tbody>\n",
       "    <tr>\n",
       "      <td>0</td>\n",
       "      <td>2017-06-01 00:10:00</td>\n",
       "      <td>17.00</td>\n",
       "      <td>10329302124590727494</td>\n",
       "    </tr>\n",
       "    <tr>\n",
       "      <td>1</td>\n",
       "      <td>2017-06-01 00:25:00</td>\n",
       "      <td>0.55</td>\n",
       "      <td>11627257723692907447</td>\n",
       "    </tr>\n",
       "    <tr>\n",
       "      <td>2</td>\n",
       "      <td>2017-06-01 00:27:00</td>\n",
       "      <td>0.37</td>\n",
       "      <td>17903680561304213844</td>\n",
       "    </tr>\n",
       "    <tr>\n",
       "      <td>3</td>\n",
       "      <td>2017-06-01 00:29:00</td>\n",
       "      <td>0.55</td>\n",
       "      <td>16109239769442553005</td>\n",
       "    </tr>\n",
       "    <tr>\n",
       "      <td>4</td>\n",
       "      <td>2017-06-01 07:58:00</td>\n",
       "      <td>0.37</td>\n",
       "      <td>14200605875248379450</td>\n",
       "    </tr>\n",
       "  </tbody>\n",
       "</table>\n",
       "</div>"
      ],
      "text/plain": [
       "                Buy Ts  Revenue                   Uid\n",
       "0  2017-06-01 00:10:00    17.00  10329302124590727494\n",
       "1  2017-06-01 00:25:00     0.55  11627257723692907447\n",
       "2  2017-06-01 00:27:00     0.37  17903680561304213844\n",
       "3  2017-06-01 00:29:00     0.55  16109239769442553005\n",
       "4  2017-06-01 07:58:00     0.37  14200605875248379450"
      ]
     },
     "execution_count": 8,
     "metadata": {},
     "output_type": "execute_result"
    }
   ],
   "source": [
    "orders.info() #выведем общую информацю о таблице\n",
    "orders.head()"
   ]
  },
  {
   "cell_type": "markdown",
   "metadata": {},
   "source": [
    "В таблице 'orders' 3 столбца, представленных типами данных float64(1), object(1), uint64(1)."
   ]
  },
  {
   "cell_type": "code",
   "execution_count": 9,
   "metadata": {},
   "outputs": [],
   "source": [
    "#переименуем столбцы\n",
    "orders = orders.rename(columns={'Buy Ts': 'purchase_date'})\n",
    "orders.columns = orders.columns.str.lower()"
   ]
  },
  {
   "cell_type": "code",
   "execution_count": 10,
   "metadata": {},
   "outputs": [],
   "source": [
    "#изменим тип данных столбца 'purchase_date' на дату\n",
    "orders['purchase_date'] = pd.to_datetime(orders['purchase_date'])"
   ]
  },
  {
   "cell_type": "markdown",
   "metadata": {},
   "source": [
    "изучим и подготовим таблицу 'costs'"
   ]
  },
  {
   "cell_type": "code",
   "execution_count": 11,
   "metadata": {},
   "outputs": [
    {
     "name": "stdout",
     "output_type": "stream",
     "text": [
      "<class 'pandas.core.frame.DataFrame'>\n",
      "RangeIndex: 2542 entries, 0 to 2541\n",
      "Data columns (total 3 columns):\n",
      "source_id    2542 non-null int64\n",
      "dt           2542 non-null object\n",
      "costs        2542 non-null float64\n",
      "dtypes: float64(1), int64(1), object(1)\n",
      "memory usage: 59.7+ KB\n"
     ]
    },
    {
     "data": {
      "text/html": [
       "<div>\n",
       "<style scoped>\n",
       "    .dataframe tbody tr th:only-of-type {\n",
       "        vertical-align: middle;\n",
       "    }\n",
       "\n",
       "    .dataframe tbody tr th {\n",
       "        vertical-align: top;\n",
       "    }\n",
       "\n",
       "    .dataframe thead th {\n",
       "        text-align: right;\n",
       "    }\n",
       "</style>\n",
       "<table border=\"1\" class=\"dataframe\">\n",
       "  <thead>\n",
       "    <tr style=\"text-align: right;\">\n",
       "      <th></th>\n",
       "      <th>source_id</th>\n",
       "      <th>dt</th>\n",
       "      <th>costs</th>\n",
       "    </tr>\n",
       "  </thead>\n",
       "  <tbody>\n",
       "    <tr>\n",
       "      <td>0</td>\n",
       "      <td>1</td>\n",
       "      <td>2017-06-01</td>\n",
       "      <td>75.20</td>\n",
       "    </tr>\n",
       "    <tr>\n",
       "      <td>1</td>\n",
       "      <td>1</td>\n",
       "      <td>2017-06-02</td>\n",
       "      <td>62.25</td>\n",
       "    </tr>\n",
       "    <tr>\n",
       "      <td>2</td>\n",
       "      <td>1</td>\n",
       "      <td>2017-06-03</td>\n",
       "      <td>36.53</td>\n",
       "    </tr>\n",
       "    <tr>\n",
       "      <td>3</td>\n",
       "      <td>1</td>\n",
       "      <td>2017-06-04</td>\n",
       "      <td>55.00</td>\n",
       "    </tr>\n",
       "    <tr>\n",
       "      <td>4</td>\n",
       "      <td>1</td>\n",
       "      <td>2017-06-05</td>\n",
       "      <td>57.08</td>\n",
       "    </tr>\n",
       "  </tbody>\n",
       "</table>\n",
       "</div>"
      ],
      "text/plain": [
       "   source_id          dt  costs\n",
       "0          1  2017-06-01  75.20\n",
       "1          1  2017-06-02  62.25\n",
       "2          1  2017-06-03  36.53\n",
       "3          1  2017-06-04  55.00\n",
       "4          1  2017-06-05  57.08"
      ]
     },
     "execution_count": 11,
     "metadata": {},
     "output_type": "execute_result"
    }
   ],
   "source": [
    "costs.info() #выведем общую информацю о таблице\n",
    "costs.head()"
   ]
  },
  {
   "cell_type": "markdown",
   "metadata": {},
   "source": [
    "В таблице 'costs' 3 столбца, представленных типами данных float64(1), int64(1), object(1)."
   ]
  },
  {
   "cell_type": "code",
   "execution_count": 12,
   "metadata": {},
   "outputs": [],
   "source": [
    "#переименуем столбцы\n",
    "costs = costs.rename(columns={'dt': 'date'})\n",
    "costs.columns = costs.columns.str.lower()"
   ]
  },
  {
   "cell_type": "code",
   "execution_count": 13,
   "metadata": {},
   "outputs": [],
   "source": [
    "#изменим тип данных столбца 'date' на дату\n",
    "costs['date'] = pd.to_datetime(costs['date'], format='%Y-%m-%d')"
   ]
  },
  {
   "cell_type": "markdown",
   "metadata": {},
   "source": [
    "# Проанализируем данные и посчитаем метрики"
   ]
  },
  {
   "cell_type": "markdown",
   "metadata": {},
   "source": [
    "#### Проанализируем продукт:\n",
    "    \n",
    "- Сколько людей пользуются в день, неделю, месяц?\n",
    "- Сколько сессий в день?\n",
    "- Сколько длится одна сессия?\n",
    "- Как часто люди возвращаются?"
   ]
  },
  {
   "cell_type": "markdown",
   "metadata": {},
   "source": [
    "##### сколько людей пользуются в день, неделю, месяц"
   ]
  },
  {
   "cell_type": "code",
   "execution_count": 14,
   "metadata": {},
   "outputs": [
    {
     "data": {
      "text/html": [
       "<div>\n",
       "<style scoped>\n",
       "    .dataframe tbody tr th:only-of-type {\n",
       "        vertical-align: middle;\n",
       "    }\n",
       "\n",
       "    .dataframe tbody tr th {\n",
       "        vertical-align: top;\n",
       "    }\n",
       "\n",
       "    .dataframe thead th {\n",
       "        text-align: right;\n",
       "    }\n",
       "</style>\n",
       "<table border=\"1\" class=\"dataframe\">\n",
       "  <thead>\n",
       "    <tr style=\"text-align: right;\">\n",
       "      <th></th>\n",
       "      <th>device</th>\n",
       "      <th>session_end</th>\n",
       "      <th>source_id</th>\n",
       "      <th>session_start</th>\n",
       "      <th>uid</th>\n",
       "      <th>session_id</th>\n",
       "      <th>session_year</th>\n",
       "      <th>session_month</th>\n",
       "      <th>session_week</th>\n",
       "      <th>session_date</th>\n",
       "    </tr>\n",
       "  </thead>\n",
       "  <tbody>\n",
       "    <tr>\n",
       "      <td>0</td>\n",
       "      <td>touch</td>\n",
       "      <td>2017-12-20 17:38:00</td>\n",
       "      <td>4</td>\n",
       "      <td>2017-12-20 17:20:00</td>\n",
       "      <td>16879256277535980062</td>\n",
       "      <td>1</td>\n",
       "      <td>2017</td>\n",
       "      <td>12</td>\n",
       "      <td>51</td>\n",
       "      <td>2017-12-20</td>\n",
       "    </tr>\n",
       "    <tr>\n",
       "      <td>1</td>\n",
       "      <td>desktop</td>\n",
       "      <td>2018-02-19 17:21:00</td>\n",
       "      <td>2</td>\n",
       "      <td>2018-02-19 16:53:00</td>\n",
       "      <td>104060357244891740</td>\n",
       "      <td>2</td>\n",
       "      <td>2018</td>\n",
       "      <td>2</td>\n",
       "      <td>8</td>\n",
       "      <td>2018-02-19</td>\n",
       "    </tr>\n",
       "    <tr>\n",
       "      <td>2</td>\n",
       "      <td>touch</td>\n",
       "      <td>2017-07-01 01:54:00</td>\n",
       "      <td>5</td>\n",
       "      <td>2017-07-01 01:54:00</td>\n",
       "      <td>7459035603376831527</td>\n",
       "      <td>3</td>\n",
       "      <td>2017</td>\n",
       "      <td>7</td>\n",
       "      <td>26</td>\n",
       "      <td>2017-07-01</td>\n",
       "    </tr>\n",
       "    <tr>\n",
       "      <td>3</td>\n",
       "      <td>desktop</td>\n",
       "      <td>2018-05-20 11:23:00</td>\n",
       "      <td>9</td>\n",
       "      <td>2018-05-20 10:59:00</td>\n",
       "      <td>16174680259334210214</td>\n",
       "      <td>4</td>\n",
       "      <td>2018</td>\n",
       "      <td>5</td>\n",
       "      <td>20</td>\n",
       "      <td>2018-05-20</td>\n",
       "    </tr>\n",
       "    <tr>\n",
       "      <td>4</td>\n",
       "      <td>desktop</td>\n",
       "      <td>2017-12-27 14:06:00</td>\n",
       "      <td>3</td>\n",
       "      <td>2017-12-27 14:06:00</td>\n",
       "      <td>9969694820036681168</td>\n",
       "      <td>5</td>\n",
       "      <td>2017</td>\n",
       "      <td>12</td>\n",
       "      <td>52</td>\n",
       "      <td>2017-12-27</td>\n",
       "    </tr>\n",
       "  </tbody>\n",
       "</table>\n",
       "</div>"
      ],
      "text/plain": [
       "    device         session_end  source_id       session_start  \\\n",
       "0    touch 2017-12-20 17:38:00          4 2017-12-20 17:20:00   \n",
       "1  desktop 2018-02-19 17:21:00          2 2018-02-19 16:53:00   \n",
       "2    touch 2017-07-01 01:54:00          5 2017-07-01 01:54:00   \n",
       "3  desktop 2018-05-20 11:23:00          9 2018-05-20 10:59:00   \n",
       "4  desktop 2017-12-27 14:06:00          3 2017-12-27 14:06:00   \n",
       "\n",
       "                    uid  session_id  session_year  session_month  \\\n",
       "0  16879256277535980062           1          2017             12   \n",
       "1    104060357244891740           2          2018              2   \n",
       "2   7459035603376831527           3          2017              7   \n",
       "3  16174680259334210214           4          2018              5   \n",
       "4   9969694820036681168           5          2017             12   \n",
       "\n",
       "   session_week session_date  \n",
       "0            51   2017-12-20  \n",
       "1             8   2018-02-19  \n",
       "2            26   2017-07-01  \n",
       "3            20   2018-05-20  \n",
       "4            52   2017-12-27  "
      ]
     },
     "execution_count": 14,
     "metadata": {},
     "output_type": "execute_result"
    }
   ],
   "source": [
    "#чтобы посчитать недельное и месячное использование, выделим в отдельные столбцы год, месяц и неделю, а также полную дату\n",
    "visits['session_year']  = visits['session_start'].dt.year\n",
    "visits['session_month'] = visits['session_start'].dt.month\n",
    "visits['session_week']  = visits['session_start'].dt.week\n",
    "visits['session_date'] = visits['session_start'].dt.date\n",
    "visits.head()"
   ]
  },
  {
   "cell_type": "code",
   "execution_count": 15,
   "metadata": {},
   "outputs": [],
   "source": [
    "#cгруппируем данные по уникальным пользователям и найдём среднее\n",
    "dau_total = visits.groupby('session_date').agg({'uid': 'nunique'}).mean()\n",
    "wau_total = visits.groupby(['session_year', 'session_week']).agg({'uid': 'nunique'}).mean()\n",
    "mau_total = visits.groupby(['session_year', 'session_month']).agg({'uid': 'nunique'}).mean()"
   ]
  },
  {
   "cell_type": "code",
   "execution_count": 16,
   "metadata": {},
   "outputs": [
    {
     "data": {
      "text/plain": [
       "uid    908.0\n",
       "dtype: float64"
      ]
     },
     "execution_count": 16,
     "metadata": {},
     "output_type": "execute_result"
    }
   ],
   "source": [
    "dau_total.round() #количество уникальных пользователей в день"
   ]
  },
  {
   "cell_type": "code",
   "execution_count": 17,
   "metadata": {},
   "outputs": [
    {
     "data": {
      "text/plain": [
       "uid    5716.0\n",
       "dtype: float64"
      ]
     },
     "execution_count": 17,
     "metadata": {},
     "output_type": "execute_result"
    }
   ],
   "source": [
    "wau_total.round() #количество уникальных пользователей в неделю"
   ]
  },
  {
   "cell_type": "code",
   "execution_count": 18,
   "metadata": {},
   "outputs": [
    {
     "data": {
      "text/plain": [
       "uid    23228.0\n",
       "dtype: float64"
      ]
     },
     "execution_count": 18,
     "metadata": {},
     "output_type": "execute_result"
    }
   ],
   "source": [
    "mau_total.round() #количество уникальных пользователей в месяц"
   ]
  },
  {
   "cell_type": "code",
   "execution_count": 19,
   "metadata": {},
   "outputs": [
    {
     "data": {
      "text/plain": [
       "uid    3.90897\n",
       "dtype: float64"
      ]
     },
     "execution_count": 19,
     "metadata": {},
     "output_type": "execute_result"
    }
   ],
   "source": [
    "#посчитаем sticky factor, чтобы узнать, как часто люди обращаются к приложению\n",
    "sticky_mau = dau_total / mau_total * 100\n",
    "sticky_mau"
   ]
  },
  {
   "cell_type": "code",
   "execution_count": 20,
   "metadata": {},
   "outputs": [
    {
     "data": {
      "text/plain": [
       "uid    15.884409\n",
       "dtype: float64"
      ]
     },
     "execution_count": 20,
     "metadata": {},
     "output_type": "execute_result"
    }
   ],
   "source": [
    "sticky_wau = dau_total / wau_total * 100\n",
    "sticky_wau"
   ]
  },
  {
   "cell_type": "markdown",
   "metadata": {},
   "source": [
    "##### количество сессий в день"
   ]
  },
  {
   "cell_type": "code",
   "execution_count": 21,
   "metadata": {},
   "outputs": [
    {
     "data": {
      "text/html": [
       "<div>\n",
       "<style scoped>\n",
       "    .dataframe tbody tr th:only-of-type {\n",
       "        vertical-align: middle;\n",
       "    }\n",
       "\n",
       "    .dataframe tbody tr th {\n",
       "        vertical-align: top;\n",
       "    }\n",
       "\n",
       "    .dataframe thead th {\n",
       "        text-align: right;\n",
       "    }\n",
       "</style>\n",
       "<table border=\"1\" class=\"dataframe\">\n",
       "  <thead>\n",
       "    <tr style=\"text-align: right;\">\n",
       "      <th></th>\n",
       "      <th>n_sessions</th>\n",
       "      <th>n_users</th>\n",
       "      <th>sessions_per_user</th>\n",
       "    </tr>\n",
       "    <tr>\n",
       "      <th>session_date</th>\n",
       "      <th></th>\n",
       "      <th></th>\n",
       "      <th></th>\n",
       "    </tr>\n",
       "  </thead>\n",
       "  <tbody>\n",
       "    <tr>\n",
       "      <td>2017-06-01</td>\n",
       "      <td>664</td>\n",
       "      <td>605</td>\n",
       "      <td>1.097521</td>\n",
       "    </tr>\n",
       "    <tr>\n",
       "      <td>2017-06-02</td>\n",
       "      <td>658</td>\n",
       "      <td>608</td>\n",
       "      <td>1.082237</td>\n",
       "    </tr>\n",
       "    <tr>\n",
       "      <td>2017-06-03</td>\n",
       "      <td>477</td>\n",
       "      <td>445</td>\n",
       "      <td>1.071910</td>\n",
       "    </tr>\n",
       "    <tr>\n",
       "      <td>2017-06-04</td>\n",
       "      <td>510</td>\n",
       "      <td>476</td>\n",
       "      <td>1.071429</td>\n",
       "    </tr>\n",
       "    <tr>\n",
       "      <td>2017-06-05</td>\n",
       "      <td>893</td>\n",
       "      <td>820</td>\n",
       "      <td>1.089024</td>\n",
       "    </tr>\n",
       "    <tr>\n",
       "      <td>...</td>\n",
       "      <td>...</td>\n",
       "      <td>...</td>\n",
       "      <td>...</td>\n",
       "    </tr>\n",
       "    <tr>\n",
       "      <td>2018-05-27</td>\n",
       "      <td>672</td>\n",
       "      <td>620</td>\n",
       "      <td>1.083871</td>\n",
       "    </tr>\n",
       "    <tr>\n",
       "      <td>2018-05-28</td>\n",
       "      <td>1156</td>\n",
       "      <td>1039</td>\n",
       "      <td>1.112608</td>\n",
       "    </tr>\n",
       "    <tr>\n",
       "      <td>2018-05-29</td>\n",
       "      <td>1035</td>\n",
       "      <td>948</td>\n",
       "      <td>1.091772</td>\n",
       "    </tr>\n",
       "    <tr>\n",
       "      <td>2018-05-30</td>\n",
       "      <td>1410</td>\n",
       "      <td>1289</td>\n",
       "      <td>1.093871</td>\n",
       "    </tr>\n",
       "    <tr>\n",
       "      <td>2018-05-31</td>\n",
       "      <td>2256</td>\n",
       "      <td>1997</td>\n",
       "      <td>1.129695</td>\n",
       "    </tr>\n",
       "  </tbody>\n",
       "</table>\n",
       "<p>364 rows × 3 columns</p>\n",
       "</div>"
      ],
      "text/plain": [
       "              n_sessions  n_users  sessions_per_user\n",
       "session_date                                        \n",
       "2017-06-01           664      605           1.097521\n",
       "2017-06-02           658      608           1.082237\n",
       "2017-06-03           477      445           1.071910\n",
       "2017-06-04           510      476           1.071429\n",
       "2017-06-05           893      820           1.089024\n",
       "...                  ...      ...                ...\n",
       "2018-05-27           672      620           1.083871\n",
       "2018-05-28          1156     1039           1.112608\n",
       "2018-05-29          1035      948           1.091772\n",
       "2018-05-30          1410     1289           1.093871\n",
       "2018-05-31          2256     1997           1.129695\n",
       "\n",
       "[364 rows x 3 columns]"
      ]
     },
     "execution_count": 21,
     "metadata": {},
     "output_type": "execute_result"
    }
   ],
   "source": [
    "#чтобы посчитать количество сессий на одного пользователя в день, разделим число сессий на количество пользователей за период\n",
    "sessions_per_user = visits.groupby(['session_date']).agg({'uid': ['count','nunique']})\n",
    "sessions_per_user.columns = ['n_sessions', 'n_users']\n",
    "sessions_per_user['sessions_per_user'] = sessions_per_user['n_sessions'] / sessions_per_user['n_users']\n",
    "sessions_per_user"
   ]
  },
  {
   "cell_type": "markdown",
   "metadata": {},
   "source": [
    "В месяц один пользователь в среднем проводит в приложении максимум 1 сессию. Не сказать, что продукт используется регулярно."
   ]
  },
  {
   "cell_type": "markdown",
   "metadata": {},
   "source": [
    "##### средняя продолжительность сессии"
   ]
  },
  {
   "cell_type": "code",
   "execution_count": 22,
   "metadata": {},
   "outputs": [
    {
     "data": {
      "text/plain": [
       "643.506488592098"
      ]
     },
     "execution_count": 22,
     "metadata": {},
     "output_type": "execute_result"
    }
   ],
   "source": [
    "#найдем среднюю продолжительность сесии (ASL): посчитаем длину всех сессий и вычислим среднее\n",
    "visits['session_duration_sec'] = (visits['session_end'] - visits['session_start']).dt.seconds\n",
    "visits['session_duration_sec'].mean()"
   ]
  },
  {
   "cell_type": "code",
   "execution_count": 23,
   "metadata": {},
   "outputs": [
    {
     "data": {
      "text/plain": [
       "<matplotlib.axes._subplots.AxesSubplot at 0x7f9bc2d25850>"
      ]
     },
     "execution_count": 23,
     "metadata": {},
     "output_type": "execute_result"
    },
    {
     "data": {
      "image/png": "[encoded data removed]",
      "text/plain": [
       "<Figure size 432x288 with 1 Axes>"
      ]
     },
     "metadata": {
      "needs_background": "light"
     },
     "output_type": "display_data"
    }
   ],
   "source": [
    "#посмотрим на распределение\n",
    "visits['session_duration_sec'].hist(bins=50)"
   ]
  },
  {
   "cell_type": "code",
   "execution_count": 24,
   "metadata": {},
   "outputs": [
    {
     "data": {
      "text/plain": [
       "0    60\n",
       "dtype: int64"
      ]
     },
     "execution_count": 24,
     "metadata": {},
     "output_type": "execute_result"
    }
   ],
   "source": [
    "#рассчитаем моду\n",
    "visits['session_duration_sec'].mode()"
   ]
  },
  {
   "cell_type": "markdown",
   "metadata": {},
   "source": [
    "##### как часто пользователи возвращаются"
   ]
  },
  {
   "cell_type": "code",
   "execution_count": 25,
   "metadata": {},
   "outputs": [],
   "source": [
    "#сформируем когорту по дате первой сессии\n",
    "first_session_date = visits.groupby(['uid'])['session_start'].min()\n",
    "first_session_date.name = 'first_session_date'\n",
    "visits = visits.join(first_session_date,on='uid')\n",
    "visits['session_month'] = visits['session_date'].astype('datetime64[M]')\n",
    "visits['first_session_month'] = visits['first_session_date'].astype('datetime64[M]')"
   ]
  },
  {
   "cell_type": "code",
   "execution_count": 26,
   "metadata": {},
   "outputs": [],
   "source": [
    "#для каждой строки датафрейма рассчитаем lifetime пользователя в рамках когорты\n",
    "visits['cohort_lifetime'] = visits['session_month'] - visits['first_session_month']\n",
    "visits['cohort_lifetime'] = visits['cohort_lifetime'] / np.timedelta64(1,'M')\n",
    "visits['cohort_lifetime'] = visits['cohort_lifetime'].round().astype('int')"
   ]
  },
  {
   "cell_type": "code",
   "execution_count": 27,
   "metadata": {},
   "outputs": [],
   "source": [
    "#сгруппируем данные по когорте и lifetime. Посчитаем для каждой когорты количество активных пользователей на определённую «неделю жизни»\n",
    "cohorts = visits.groupby(['first_session_month','cohort_lifetime']).agg({'uid':'nunique'}).reset_index()\n",
    "\n",
    "#найдём исходное количество пользователей в когорте на нулевую неделю\n",
    "initial_users_count = cohorts[cohorts['cohort_lifetime'] == 0][['first_session_month','uid']]\n",
    "initial_users_count = initial_users_count.rename(columns={'uid':'cohort_users'})\n",
    "\n",
    "#объединим данные по когортам с исходным количеством пользователей в когорте\n",
    "cohorts = cohorts.merge(initial_users_count,on='first_session_month')"
   ]
  },
  {
   "cell_type": "code",
   "execution_count": 28,
   "metadata": {},
   "outputs": [],
   "source": [
    "#рассчитаем Retention Rate\n",
    "cohorts['retention'] = cohorts['uid'] / cohorts['cohort_users']"
   ]
  },
  {
   "cell_type": "code",
   "execution_count": 29,
   "metadata": {},
   "outputs": [
    {
     "data": {
      "image/png": "[encoded data removed]",
      "text/plain": [
       "<Figure size 936x648 with 2 Axes>"
      ]
     },
     "metadata": {},
     "output_type": "display_data"
    }
   ],
   "source": [
    "#сформируем сводную таблицу и создадим тепловую карту\n",
    "retention_pivot = cohorts.pivot_table(index='first_session_month',\n",
    "                                      columns='cohort_lifetime',\n",
    "                                      values='retention',\n",
    "                                      aggfunc='sum')\n",
    "\n",
    "sns.set(style='white')\n",
    "plt.figure(figsize=(13,9))\n",
    "plt.title('Cohorts: user retention')\n",
    "sns.heatmap(retention_pivot, annot=True, fmt='.1%', linewidths=.5, linecolor='gray', vmin=0, vmax=0.2);"
   ]
  },
  {
   "cell_type": "markdown",
   "metadata": {},
   "source": [
    "### Выводы"
   ]
  },
  {
   "cell_type": "markdown",
   "metadata": {},
   "source": [
    "- Количество пользователей:\n",
    "    - DAU: 908 пользователей (в день);\n",
    "    - WAU: 5716 пользователя (в неделю);\n",
    "    - MAU: 23228 пользователей (в месяц).\n",
    "    \n",
    "- Среднее количество сессий в день составляет 987 (то есть в среднем каждый пользователь заходит на ресурс 1 раз в день).\n",
    "\n",
    "- Среднестатистическая длительность одной сессии составляет 1 минуту.\n",
    "\n",
    "- Retention довольно низкий, лучшие результаты показывает первая когорта."
   ]
  },
  {
   "cell_type": "markdown",
   "metadata": {},
   "source": [
    "#### Проанализируем продажи:\n",
    "    \n",
    "- Когда люди начинают покупать?\n",
    "- Сколько раз покупают за период?\n",
    "- Какой средний чек?\n",
    "- Сколько денег приносят (LTV)?"
   ]
  },
  {
   "cell_type": "markdown",
   "metadata": {},
   "source": [
    "##### когда люди начинают покупать"
   ]
  },
  {
   "cell_type": "code",
   "execution_count": 30,
   "metadata": {},
   "outputs": [
    {
     "data": {
      "text/html": [
       "<div>\n",
       "<style scoped>\n",
       "    .dataframe tbody tr th:only-of-type {\n",
       "        vertical-align: middle;\n",
       "    }\n",
       "\n",
       "    .dataframe tbody tr th {\n",
       "        vertical-align: top;\n",
       "    }\n",
       "\n",
       "    .dataframe thead th {\n",
       "        text-align: right;\n",
       "    }\n",
       "</style>\n",
       "<table border=\"1\" class=\"dataframe\">\n",
       "  <thead>\n",
       "    <tr style=\"text-align: right;\">\n",
       "      <th></th>\n",
       "      <th>purchase_date</th>\n",
       "      <th>revenue</th>\n",
       "      <th>uid</th>\n",
       "      <th>first_order_date</th>\n",
       "      <th>first_order_month</th>\n",
       "      <th>order_month</th>\n",
       "    </tr>\n",
       "  </thead>\n",
       "  <tbody>\n",
       "    <tr>\n",
       "      <td>0</td>\n",
       "      <td>2017-06-01 00:10:00</td>\n",
       "      <td>17.00</td>\n",
       "      <td>10329302124590727494</td>\n",
       "      <td>2017-06-01 00:10:00</td>\n",
       "      <td>2017-06-01</td>\n",
       "      <td>2017-06-01</td>\n",
       "    </tr>\n",
       "    <tr>\n",
       "      <td>1</td>\n",
       "      <td>2017-06-01 00:25:00</td>\n",
       "      <td>0.55</td>\n",
       "      <td>11627257723692907447</td>\n",
       "      <td>2017-06-01 00:25:00</td>\n",
       "      <td>2017-06-01</td>\n",
       "      <td>2017-06-01</td>\n",
       "    </tr>\n",
       "    <tr>\n",
       "      <td>2</td>\n",
       "      <td>2017-06-01 00:27:00</td>\n",
       "      <td>0.37</td>\n",
       "      <td>17903680561304213844</td>\n",
       "      <td>2017-06-01 00:27:00</td>\n",
       "      <td>2017-06-01</td>\n",
       "      <td>2017-06-01</td>\n",
       "    </tr>\n",
       "    <tr>\n",
       "      <td>3</td>\n",
       "      <td>2017-06-01 00:29:00</td>\n",
       "      <td>0.55</td>\n",
       "      <td>16109239769442553005</td>\n",
       "      <td>2017-06-01 00:29:00</td>\n",
       "      <td>2017-06-01</td>\n",
       "      <td>2017-06-01</td>\n",
       "    </tr>\n",
       "    <tr>\n",
       "      <td>4</td>\n",
       "      <td>2017-06-01 07:58:00</td>\n",
       "      <td>0.37</td>\n",
       "      <td>14200605875248379450</td>\n",
       "      <td>2017-06-01 07:58:00</td>\n",
       "      <td>2017-06-01</td>\n",
       "      <td>2017-06-01</td>\n",
       "    </tr>\n",
       "    <tr>\n",
       "      <td>5</td>\n",
       "      <td>2017-06-01 08:43:00</td>\n",
       "      <td>0.18</td>\n",
       "      <td>10402394430196413321</td>\n",
       "      <td>2017-06-01 08:43:00</td>\n",
       "      <td>2017-06-01</td>\n",
       "      <td>2017-06-01</td>\n",
       "    </tr>\n",
       "    <tr>\n",
       "      <td>6</td>\n",
       "      <td>2017-06-01 08:54:00</td>\n",
       "      <td>1.83</td>\n",
       "      <td>12464626743129688638</td>\n",
       "      <td>2017-06-01 08:54:00</td>\n",
       "      <td>2017-06-01</td>\n",
       "      <td>2017-06-01</td>\n",
       "    </tr>\n",
       "    <tr>\n",
       "      <td>7</td>\n",
       "      <td>2017-06-01 09:22:00</td>\n",
       "      <td>1.22</td>\n",
       "      <td>3644482766749211722</td>\n",
       "      <td>2017-06-01 09:22:00</td>\n",
       "      <td>2017-06-01</td>\n",
       "      <td>2017-06-01</td>\n",
       "    </tr>\n",
       "    <tr>\n",
       "      <td>8</td>\n",
       "      <td>2017-06-01 09:22:00</td>\n",
       "      <td>3.30</td>\n",
       "      <td>17542070709969841479</td>\n",
       "      <td>2017-06-01 09:22:00</td>\n",
       "      <td>2017-06-01</td>\n",
       "      <td>2017-06-01</td>\n",
       "    </tr>\n",
       "    <tr>\n",
       "      <td>9</td>\n",
       "      <td>2017-06-01 09:23:00</td>\n",
       "      <td>0.37</td>\n",
       "      <td>1074355127080856382</td>\n",
       "      <td>2017-06-01 09:23:00</td>\n",
       "      <td>2017-06-01</td>\n",
       "      <td>2017-06-01</td>\n",
       "    </tr>\n",
       "  </tbody>\n",
       "</table>\n",
       "</div>"
      ],
      "text/plain": [
       "        purchase_date  revenue                   uid    first_order_date  \\\n",
       "0 2017-06-01 00:10:00    17.00  10329302124590727494 2017-06-01 00:10:00   \n",
       "1 2017-06-01 00:25:00     0.55  11627257723692907447 2017-06-01 00:25:00   \n",
       "2 2017-06-01 00:27:00     0.37  17903680561304213844 2017-06-01 00:27:00   \n",
       "3 2017-06-01 00:29:00     0.55  16109239769442553005 2017-06-01 00:29:00   \n",
       "4 2017-06-01 07:58:00     0.37  14200605875248379450 2017-06-01 07:58:00   \n",
       "5 2017-06-01 08:43:00     0.18  10402394430196413321 2017-06-01 08:43:00   \n",
       "6 2017-06-01 08:54:00     1.83  12464626743129688638 2017-06-01 08:54:00   \n",
       "7 2017-06-01 09:22:00     1.22   3644482766749211722 2017-06-01 09:22:00   \n",
       "8 2017-06-01 09:22:00     3.30  17542070709969841479 2017-06-01 09:22:00   \n",
       "9 2017-06-01 09:23:00     0.37   1074355127080856382 2017-06-01 09:23:00   \n",
       "\n",
       "  first_order_month order_month  \n",
       "0        2017-06-01  2017-06-01  \n",
       "1        2017-06-01  2017-06-01  \n",
       "2        2017-06-01  2017-06-01  \n",
       "3        2017-06-01  2017-06-01  \n",
       "4        2017-06-01  2017-06-01  \n",
       "5        2017-06-01  2017-06-01  \n",
       "6        2017-06-01  2017-06-01  \n",
       "7        2017-06-01  2017-06-01  \n",
       "8        2017-06-01  2017-06-01  \n",
       "9        2017-06-01  2017-06-01  "
      ]
     },
     "execution_count": 30,
     "metadata": {},
     "output_type": "execute_result"
    }
   ],
   "source": [
    "#сгруппируем данные и получим дату первого заказа по каждому пользователю\n",
    "first_order_date_by_customers = orders.groupby('uid')['purchase_date'].min() \n",
    "first_order_date_by_customers.name = 'first_order_date'\n",
    "orders = orders.join(first_order_date_by_customers,on='uid')\n",
    "#выделим из столбцов 'first_order_date' и 'purchase_date' месяцы\n",
    "orders['first_order_month'] = orders['first_order_date'].astype('datetime64[M]')\n",
    "orders['order_month'] = orders['purchase_date'].astype('datetime64[M]')\n",
    "orders.head(10)"
   ]
  },
  {
   "cell_type": "code",
   "execution_count": 31,
   "metadata": {},
   "outputs": [],
   "source": [
    "#сгруппируем датафреймы 'orders' и 'visits' по дате первого заказа и первой сессии\n",
    "first_purchase_date = orders.groupby('uid')[['purchase_date']].min().reset_index()\n",
    "first_purchase_date.columns = ['uid', 'first_purchase_date']\n",
    "first_session_date = visits.groupby('uid')[['session_start']].min().reset_index()\n",
    "first_session_date.columns = ['uid', 'first_session']"
   ]
  },
  {
   "cell_type": "code",
   "execution_count": 32,
   "metadata": {},
   "outputs": [
    {
     "data": {
      "text/html": [
       "<div>\n",
       "<style scoped>\n",
       "    .dataframe tbody tr th:only-of-type {\n",
       "        vertical-align: middle;\n",
       "    }\n",
       "\n",
       "    .dataframe tbody tr th {\n",
       "        vertical-align: top;\n",
       "    }\n",
       "\n",
       "    .dataframe thead th {\n",
       "        text-align: right;\n",
       "    }\n",
       "</style>\n",
       "<table border=\"1\" class=\"dataframe\">\n",
       "  <thead>\n",
       "    <tr style=\"text-align: right;\">\n",
       "      <th></th>\n",
       "      <th>uid</th>\n",
       "      <th>first_purchase_date</th>\n",
       "      <th>first_session</th>\n",
       "    </tr>\n",
       "  </thead>\n",
       "  <tbody>\n",
       "    <tr>\n",
       "      <td>0</td>\n",
       "      <td>313578113262317</td>\n",
       "      <td>2018-01-03 21:51:00</td>\n",
       "      <td>2017-09-18 22:49:00</td>\n",
       "    </tr>\n",
       "    <tr>\n",
       "      <td>1</td>\n",
       "      <td>1575281904278712</td>\n",
       "      <td>2017-06-03 10:13:00</td>\n",
       "      <td>2017-06-03 10:13:00</td>\n",
       "    </tr>\n",
       "    <tr>\n",
       "      <td>2</td>\n",
       "      <td>2429014661409475</td>\n",
       "      <td>2017-10-11 18:33:00</td>\n",
       "      <td>2017-10-11 17:14:00</td>\n",
       "    </tr>\n",
       "    <tr>\n",
       "      <td>3</td>\n",
       "      <td>2464366381792757</td>\n",
       "      <td>2018-01-28 15:54:00</td>\n",
       "      <td>2018-01-27 20:10:00</td>\n",
       "    </tr>\n",
       "    <tr>\n",
       "      <td>4</td>\n",
       "      <td>2551852515556206</td>\n",
       "      <td>2017-11-24 10:14:00</td>\n",
       "      <td>2017-11-24 10:14:00</td>\n",
       "    </tr>\n",
       "  </tbody>\n",
       "</table>\n",
       "</div>"
      ],
      "text/plain": [
       "                uid first_purchase_date       first_session\n",
       "0   313578113262317 2018-01-03 21:51:00 2017-09-18 22:49:00\n",
       "1  1575281904278712 2017-06-03 10:13:00 2017-06-03 10:13:00\n",
       "2  2429014661409475 2017-10-11 18:33:00 2017-10-11 17:14:00\n",
       "3  2464366381792757 2018-01-28 15:54:00 2018-01-27 20:10:00\n",
       "4  2551852515556206 2017-11-24 10:14:00 2017-11-24 10:14:00"
      ]
     },
     "execution_count": 32,
     "metadata": {},
     "output_type": "execute_result"
    }
   ],
   "source": [
    "#сведем данные в общий датафрейм\n",
    "time_to_buy = first_purchase_date.merge(first_session_date, on='uid')\n",
    "time_to_buy.head()"
   ]
  },
  {
   "cell_type": "code",
   "execution_count": 33,
   "metadata": {},
   "outputs": [
    {
     "data": {
      "text/html": [
       "<div>\n",
       "<style scoped>\n",
       "    .dataframe tbody tr th:only-of-type {\n",
       "        vertical-align: middle;\n",
       "    }\n",
       "\n",
       "    .dataframe tbody tr th {\n",
       "        vertical-align: top;\n",
       "    }\n",
       "\n",
       "    .dataframe thead th {\n",
       "        text-align: right;\n",
       "    }\n",
       "</style>\n",
       "<table border=\"1\" class=\"dataframe\">\n",
       "  <thead>\n",
       "    <tr style=\"text-align: right;\">\n",
       "      <th></th>\n",
       "      <th>uid</th>\n",
       "      <th>first_purchase_date</th>\n",
       "      <th>first_session</th>\n",
       "      <th>interval</th>\n",
       "    </tr>\n",
       "  </thead>\n",
       "  <tbody>\n",
       "    <tr>\n",
       "      <td>0</td>\n",
       "      <td>313578113262317</td>\n",
       "      <td>2018-01-03 21:51:00</td>\n",
       "      <td>2017-09-18 22:49:00</td>\n",
       "      <td>154022.0</td>\n",
       "    </tr>\n",
       "    <tr>\n",
       "      <td>1</td>\n",
       "      <td>1575281904278712</td>\n",
       "      <td>2017-06-03 10:13:00</td>\n",
       "      <td>2017-06-03 10:13:00</td>\n",
       "      <td>0.0</td>\n",
       "    </tr>\n",
       "    <tr>\n",
       "      <td>2</td>\n",
       "      <td>2429014661409475</td>\n",
       "      <td>2017-10-11 18:33:00</td>\n",
       "      <td>2017-10-11 17:14:00</td>\n",
       "      <td>79.0</td>\n",
       "    </tr>\n",
       "    <tr>\n",
       "      <td>3</td>\n",
       "      <td>2464366381792757</td>\n",
       "      <td>2018-01-28 15:54:00</td>\n",
       "      <td>2018-01-27 20:10:00</td>\n",
       "      <td>1184.0</td>\n",
       "    </tr>\n",
       "    <tr>\n",
       "      <td>4</td>\n",
       "      <td>2551852515556206</td>\n",
       "      <td>2017-11-24 10:14:00</td>\n",
       "      <td>2017-11-24 10:14:00</td>\n",
       "      <td>0.0</td>\n",
       "    </tr>\n",
       "  </tbody>\n",
       "</table>\n",
       "</div>"
      ],
      "text/plain": [
       "                uid first_purchase_date       first_session  interval\n",
       "0   313578113262317 2018-01-03 21:51:00 2017-09-18 22:49:00  154022.0\n",
       "1  1575281904278712 2017-06-03 10:13:00 2017-06-03 10:13:00       0.0\n",
       "2  2429014661409475 2017-10-11 18:33:00 2017-10-11 17:14:00      79.0\n",
       "3  2464366381792757 2018-01-28 15:54:00 2018-01-27 20:10:00    1184.0\n",
       "4  2551852515556206 2017-11-24 10:14:00 2017-11-24 10:14:00       0.0"
      ]
     },
     "execution_count": 33,
     "metadata": {},
     "output_type": "execute_result"
    }
   ],
   "source": [
    "#посчитаем разницу в минутах между датой и временем первого заказа и датой и временем первой сессии\n",
    "time_to_buy['interval'] = time_to_buy['first_purchase_date'] - time_to_buy['first_session']\n",
    "time_to_buy['interval'] = time_to_buy['interval'] / np.timedelta64(1, 'm')\n",
    "time_to_buy['interval'] = time_to_buy['interval'].round(1)\n",
    "time_to_buy.head()"
   ]
  },
  {
   "cell_type": "code",
   "execution_count": 34,
   "metadata": {},
   "outputs": [
    {
     "data": {
      "text/plain": [
       "<matplotlib.axes._subplots.AxesSubplot at 0x7f9bc252dd50>"
      ]
     },
     "execution_count": 34,
     "metadata": {},
     "output_type": "execute_result"
    },
    {
     "data": {
      "image/png": "[encoded data removed]",
      "text/plain": [
       "<Figure size 432x288 with 1 Axes>"
      ]
     },
     "metadata": {},
     "output_type": "display_data"
    }
   ],
   "source": [
    "#сгруппируем датафрейм по 'uid' и определим минимальный интервал между первой сессией и первой покупкой\n",
    "time_to_buy = time_to_buy.groupby('uid')[['interval']].min()\n",
    "time_to_buy.query('interval < 55').boxplot()"
   ]
  },
  {
   "cell_type": "code",
   "execution_count": 35,
   "metadata": {},
   "outputs": [
    {
     "data": {
      "text/plain": [
       "interval    16.0\n",
       "dtype: float64"
      ]
     },
     "execution_count": 35,
     "metadata": {},
     "output_type": "execute_result"
    }
   ],
   "source": [
    "#выведем медиану времени между первой сессией и первой покупкой\n",
    "time_to_buy.median()"
   ]
  },
  {
   "cell_type": "markdown",
   "metadata": {},
   "source": [
    "##### сколько раз клиенты покупают за период"
   ]
  },
  {
   "cell_type": "code",
   "execution_count": 36,
   "metadata": {},
   "outputs": [
    {
     "data": {
      "text/html": [
       "<div>\n",
       "<style scoped>\n",
       "    .dataframe tbody tr th:only-of-type {\n",
       "        vertical-align: middle;\n",
       "    }\n",
       "\n",
       "    .dataframe tbody tr th {\n",
       "        vertical-align: top;\n",
       "    }\n",
       "\n",
       "    .dataframe thead th {\n",
       "        text-align: right;\n",
       "    }\n",
       "</style>\n",
       "<table border=\"1\" class=\"dataframe\">\n",
       "  <thead>\n",
       "    <tr style=\"text-align: right;\">\n",
       "      <th>order_month</th>\n",
       "      <th>2017-06-01</th>\n",
       "      <th>2017-07-01</th>\n",
       "      <th>2017-08-01</th>\n",
       "      <th>2017-09-01</th>\n",
       "      <th>2017-10-01</th>\n",
       "      <th>2017-11-01</th>\n",
       "      <th>2017-12-01</th>\n",
       "      <th>2018-01-01</th>\n",
       "      <th>2018-02-01</th>\n",
       "      <th>2018-03-01</th>\n",
       "      <th>2018-04-01</th>\n",
       "      <th>2018-05-01</th>\n",
       "      <th>2018-06-01</th>\n",
       "    </tr>\n",
       "    <tr>\n",
       "      <th>first_order_month</th>\n",
       "      <th></th>\n",
       "      <th></th>\n",
       "      <th></th>\n",
       "      <th></th>\n",
       "      <th></th>\n",
       "      <th></th>\n",
       "      <th></th>\n",
       "      <th></th>\n",
       "      <th></th>\n",
       "      <th></th>\n",
       "      <th></th>\n",
       "      <th></th>\n",
       "      <th></th>\n",
       "    </tr>\n",
       "  </thead>\n",
       "  <tbody>\n",
       "    <tr>\n",
       "      <td>2017-06-01</td>\n",
       "      <td>2023</td>\n",
       "      <td>61</td>\n",
       "      <td>50</td>\n",
       "      <td>54</td>\n",
       "      <td>88</td>\n",
       "      <td>67</td>\n",
       "      <td>62</td>\n",
       "      <td>47</td>\n",
       "      <td>58</td>\n",
       "      <td>45</td>\n",
       "      <td>45</td>\n",
       "      <td>53</td>\n",
       "      <td></td>\n",
       "    </tr>\n",
       "    <tr>\n",
       "      <td>2017-07-01</td>\n",
       "      <td></td>\n",
       "      <td>1923</td>\n",
       "      <td>52</td>\n",
       "      <td>57</td>\n",
       "      <td>64</td>\n",
       "      <td>49</td>\n",
       "      <td>38</td>\n",
       "      <td>36</td>\n",
       "      <td>39</td>\n",
       "      <td>42</td>\n",
       "      <td>22</td>\n",
       "      <td>26</td>\n",
       "      <td></td>\n",
       "    </tr>\n",
       "    <tr>\n",
       "      <td>2017-08-01</td>\n",
       "      <td></td>\n",
       "      <td></td>\n",
       "      <td>1370</td>\n",
       "      <td>58</td>\n",
       "      <td>53</td>\n",
       "      <td>44</td>\n",
       "      <td>40</td>\n",
       "      <td>32</td>\n",
       "      <td>30</td>\n",
       "      <td>44</td>\n",
       "      <td>19</td>\n",
       "      <td>31</td>\n",
       "      <td></td>\n",
       "    </tr>\n",
       "    <tr>\n",
       "      <td>2017-09-01</td>\n",
       "      <td></td>\n",
       "      <td></td>\n",
       "      <td></td>\n",
       "      <td>2581</td>\n",
       "      <td>130</td>\n",
       "      <td>100</td>\n",
       "      <td>74</td>\n",
       "      <td>52</td>\n",
       "      <td>64</td>\n",
       "      <td>66</td>\n",
       "      <td>37</td>\n",
       "      <td>43</td>\n",
       "      <td></td>\n",
       "    </tr>\n",
       "    <tr>\n",
       "      <td>2017-10-01</td>\n",
       "      <td></td>\n",
       "      <td></td>\n",
       "      <td></td>\n",
       "      <td></td>\n",
       "      <td>4340</td>\n",
       "      <td>206</td>\n",
       "      <td>123</td>\n",
       "      <td>92</td>\n",
       "      <td>93</td>\n",
       "      <td>72</td>\n",
       "      <td>56</td>\n",
       "      <td>67</td>\n",
       "      <td></td>\n",
       "    </tr>\n",
       "    <tr>\n",
       "      <td>2017-11-01</td>\n",
       "      <td></td>\n",
       "      <td></td>\n",
       "      <td></td>\n",
       "      <td></td>\n",
       "      <td></td>\n",
       "      <td>4081</td>\n",
       "      <td>222</td>\n",
       "      <td>120</td>\n",
       "      <td>106</td>\n",
       "      <td>81</td>\n",
       "      <td>48</td>\n",
       "      <td>62</td>\n",
       "      <td></td>\n",
       "    </tr>\n",
       "    <tr>\n",
       "      <td>2017-12-01</td>\n",
       "      <td></td>\n",
       "      <td></td>\n",
       "      <td></td>\n",
       "      <td></td>\n",
       "      <td></td>\n",
       "      <td></td>\n",
       "      <td>4383</td>\n",
       "      <td>146</td>\n",
       "      <td>103</td>\n",
       "      <td>97</td>\n",
       "      <td>50</td>\n",
       "      <td>63</td>\n",
       "      <td></td>\n",
       "    </tr>\n",
       "    <tr>\n",
       "      <td>2018-01-01</td>\n",
       "      <td></td>\n",
       "      <td></td>\n",
       "      <td></td>\n",
       "      <td></td>\n",
       "      <td></td>\n",
       "      <td></td>\n",
       "      <td></td>\n",
       "      <td>3373</td>\n",
       "      <td>114</td>\n",
       "      <td>83</td>\n",
       "      <td>43</td>\n",
       "      <td>45</td>\n",
       "      <td></td>\n",
       "    </tr>\n",
       "    <tr>\n",
       "      <td>2018-02-01</td>\n",
       "      <td></td>\n",
       "      <td></td>\n",
       "      <td></td>\n",
       "      <td></td>\n",
       "      <td></td>\n",
       "      <td></td>\n",
       "      <td></td>\n",
       "      <td></td>\n",
       "      <td>3651</td>\n",
       "      <td>118</td>\n",
       "      <td>58</td>\n",
       "      <td>39</td>\n",
       "      <td></td>\n",
       "    </tr>\n",
       "    <tr>\n",
       "      <td>2018-03-01</td>\n",
       "      <td></td>\n",
       "      <td></td>\n",
       "      <td></td>\n",
       "      <td></td>\n",
       "      <td></td>\n",
       "      <td></td>\n",
       "      <td></td>\n",
       "      <td></td>\n",
       "      <td></td>\n",
       "      <td>3533</td>\n",
       "      <td>90</td>\n",
       "      <td>58</td>\n",
       "      <td></td>\n",
       "    </tr>\n",
       "    <tr>\n",
       "      <td>2018-04-01</td>\n",
       "      <td></td>\n",
       "      <td></td>\n",
       "      <td></td>\n",
       "      <td></td>\n",
       "      <td></td>\n",
       "      <td></td>\n",
       "      <td></td>\n",
       "      <td></td>\n",
       "      <td></td>\n",
       "      <td></td>\n",
       "      <td>2276</td>\n",
       "      <td>69</td>\n",
       "      <td></td>\n",
       "    </tr>\n",
       "    <tr>\n",
       "      <td>2018-05-01</td>\n",
       "      <td></td>\n",
       "      <td></td>\n",
       "      <td></td>\n",
       "      <td></td>\n",
       "      <td></td>\n",
       "      <td></td>\n",
       "      <td></td>\n",
       "      <td></td>\n",
       "      <td></td>\n",
       "      <td></td>\n",
       "      <td></td>\n",
       "      <td>2988</td>\n",
       "      <td></td>\n",
       "    </tr>\n",
       "    <tr>\n",
       "      <td>2018-06-01</td>\n",
       "      <td></td>\n",
       "      <td></td>\n",
       "      <td></td>\n",
       "      <td></td>\n",
       "      <td></td>\n",
       "      <td></td>\n",
       "      <td></td>\n",
       "      <td></td>\n",
       "      <td></td>\n",
       "      <td></td>\n",
       "      <td></td>\n",
       "      <td></td>\n",
       "      <td>1</td>\n",
       "    </tr>\n",
       "  </tbody>\n",
       "</table>\n",
       "</div>"
      ],
      "text/plain": [
       "order_month       2017-06-01 2017-07-01 2017-08-01 2017-09-01 2017-10-01  \\\n",
       "first_order_month                                                          \n",
       "2017-06-01              2023         61         50         54         88   \n",
       "2017-07-01                         1923         52         57         64   \n",
       "2017-08-01                                    1370         58         53   \n",
       "2017-09-01                                               2581        130   \n",
       "2017-10-01                                                          4340   \n",
       "2017-11-01                                                                 \n",
       "2017-12-01                                                                 \n",
       "2018-01-01                                                                 \n",
       "2018-02-01                                                                 \n",
       "2018-03-01                                                                 \n",
       "2018-04-01                                                                 \n",
       "2018-05-01                                                                 \n",
       "2018-06-01                                                                 \n",
       "\n",
       "order_month       2017-11-01 2017-12-01 2018-01-01 2018-02-01 2018-03-01  \\\n",
       "first_order_month                                                          \n",
       "2017-06-01                67         62         47         58         45   \n",
       "2017-07-01                49         38         36         39         42   \n",
       "2017-08-01                44         40         32         30         44   \n",
       "2017-09-01               100         74         52         64         66   \n",
       "2017-10-01               206        123         92         93         72   \n",
       "2017-11-01              4081        222        120        106         81   \n",
       "2017-12-01                         4383        146        103         97   \n",
       "2018-01-01                                    3373        114         83   \n",
       "2018-02-01                                               3651        118   \n",
       "2018-03-01                                                          3533   \n",
       "2018-04-01                                                                 \n",
       "2018-05-01                                                                 \n",
       "2018-06-01                                                                 \n",
       "\n",
       "order_month       2018-04-01 2018-05-01 2018-06-01  \n",
       "first_order_month                                   \n",
       "2017-06-01                45         53             \n",
       "2017-07-01                22         26             \n",
       "2017-08-01                19         31             \n",
       "2017-09-01                37         43             \n",
       "2017-10-01                56         67             \n",
       "2017-11-01                48         62             \n",
       "2017-12-01                50         63             \n",
       "2018-01-01                43         45             \n",
       "2018-02-01                58         39             \n",
       "2018-03-01                90         58             \n",
       "2018-04-01              2276         69             \n",
       "2018-05-01                         2988             \n",
       "2018-06-01                                       1  "
      ]
     },
     "execution_count": 36,
     "metadata": {},
     "output_type": "execute_result"
    }
   ],
   "source": [
    "#чтобы понять, сколько раз пользователи покупают за период, построим сводную таблицу\n",
    "orders.pivot_table(index='first_order_month',\n",
    "    columns='order_month',\n",
    "    values='uid',\n",
    "    aggfunc='nunique').fillna('')"
   ]
  },
  {
   "cell_type": "markdown",
   "metadata": {},
   "source": [
    "- после первого месяца количество покупателей в когорте снижается;\n",
    "- в некоторых когортах число покупателей периодически начинает расти."
   ]
  },
  {
   "cell_type": "code",
   "execution_count": 37,
   "metadata": {},
   "outputs": [
    {
     "data": {
      "text/html": [
       "<div>\n",
       "<style scoped>\n",
       "    .dataframe tbody tr th:only-of-type {\n",
       "        vertical-align: middle;\n",
       "    }\n",
       "\n",
       "    .dataframe tbody tr th {\n",
       "        vertical-align: top;\n",
       "    }\n",
       "\n",
       "    .dataframe thead th {\n",
       "        text-align: right;\n",
       "    }\n",
       "</style>\n",
       "<table border=\"1\" class=\"dataframe\">\n",
       "  <thead>\n",
       "    <tr style=\"text-align: right;\">\n",
       "      <th></th>\n",
       "      <th>first_order_month</th>\n",
       "      <th>purchase_date</th>\n",
       "      <th>uid</th>\n",
       "      <th>purchases_per_user</th>\n",
       "    </tr>\n",
       "  </thead>\n",
       "  <tbody>\n",
       "    <tr>\n",
       "      <td>0</td>\n",
       "      <td>2017-06-01</td>\n",
       "      <td>4438</td>\n",
       "      <td>2023</td>\n",
       "      <td>2.0</td>\n",
       "    </tr>\n",
       "    <tr>\n",
       "      <td>1</td>\n",
       "      <td>2017-07-01</td>\n",
       "      <td>2910</td>\n",
       "      <td>1923</td>\n",
       "      <td>2.0</td>\n",
       "    </tr>\n",
       "    <tr>\n",
       "      <td>2</td>\n",
       "      <td>2017-08-01</td>\n",
       "      <td>2188</td>\n",
       "      <td>1370</td>\n",
       "      <td>2.0</td>\n",
       "    </tr>\n",
       "    <tr>\n",
       "      <td>3</td>\n",
       "      <td>2017-09-01</td>\n",
       "      <td>3878</td>\n",
       "      <td>2581</td>\n",
       "      <td>2.0</td>\n",
       "    </tr>\n",
       "    <tr>\n",
       "      <td>4</td>\n",
       "      <td>2017-10-01</td>\n",
       "      <td>6005</td>\n",
       "      <td>4340</td>\n",
       "      <td>1.0</td>\n",
       "    </tr>\n",
       "  </tbody>\n",
       "</table>\n",
       "</div>"
      ],
      "text/plain": [
       "  first_order_month  purchase_date   uid  purchases_per_user\n",
       "0        2017-06-01           4438  2023                 2.0\n",
       "1        2017-07-01           2910  1923                 2.0\n",
       "2        2017-08-01           2188  1370                 2.0\n",
       "3        2017-09-01           3878  2581                 2.0\n",
       "4        2017-10-01           6005  4340                 1.0"
      ]
     },
     "execution_count": 37,
     "metadata": {},
     "output_type": "execute_result"
    }
   ],
   "source": [
    "#выделим когорты по первой сессии и по месяцам\n",
    "purchases_grouped_by_cohorts = orders.groupby(['first_order_month']).agg({'purchase_date':'count', 'uid':'nunique'})\n",
    "#посчитаем количество заказов в месяц на одного пользователя\n",
    "purchases_grouped_by_cohorts['purchases_per_user'] = purchases_grouped_by_cohorts['purchase_date'] / purchases_grouped_by_cohorts['uid']\n",
    "purchases_grouped_by_cohorts = purchases_grouped_by_cohorts.reset_index()\n",
    "purchases_grouped_by_cohorts.round().head()"
   ]
  },
  {
   "cell_type": "code",
   "execution_count": 38,
   "metadata": {},
   "outputs": [
    {
     "data": {
      "text/plain": [
       "1.0"
      ]
     },
     "execution_count": 38,
     "metadata": {},
     "output_type": "execute_result"
    }
   ],
   "source": [
    "#выведем среднее количество заказов на одного пользователя в месяц\n",
    "purchases_grouped_by_cohorts['purchases_per_user'].mean().round()"
   ]
  },
  {
   "cell_type": "markdown",
   "metadata": {},
   "source": [
    "##### средний чек"
   ]
  },
  {
   "cell_type": "code",
   "execution_count": 39,
   "metadata": {},
   "outputs": [
    {
     "data": {
      "text/plain": [
       "5.0"
      ]
     },
     "execution_count": 39,
     "metadata": {},
     "output_type": "execute_result"
    }
   ],
   "source": [
    "orders['mean_check'] = orders['revenue'].sum() / orders['revenue'].count()\n",
    "mean_check_value = orders['mean_check'].round()\n",
    "mean_check_value.mean().round()"
   ]
  },
  {
   "cell_type": "code",
   "execution_count": 40,
   "metadata": {},
   "outputs": [
    {
     "data": {
      "text/plain": [
       "<matplotlib.axes._subplots.AxesSubplot at 0x7f9bc23b6c50>"
      ]
     },
     "execution_count": 40,
     "metadata": {},
     "output_type": "execute_result"
    },
    {
     "data": {
      "image/png": "[encoded data removed]",
      "text/plain": [
       "<Figure size 936x504 with 1 Axes>"
      ]
     },
     "metadata": {},
     "output_type": "display_data"
    }
   ],
   "source": [
    "orders.groupby('first_order_month').agg({'mean_check':'mean'}).plot(figsize=(13, 7), style='o-', grid=True)"
   ]
  },
  {
   "cell_type": "markdown",
   "metadata": {},
   "source": [
    "##### сколько денег приносят пользователи (LTV)"
   ]
  },
  {
   "cell_type": "code",
   "execution_count": 41,
   "metadata": {},
   "outputs": [
    {
     "data": {
      "text/html": [
       "<div>\n",
       "<style scoped>\n",
       "    .dataframe tbody tr th:only-of-type {\n",
       "        vertical-align: middle;\n",
       "    }\n",
       "\n",
       "    .dataframe tbody tr th {\n",
       "        vertical-align: top;\n",
       "    }\n",
       "\n",
       "    .dataframe thead th {\n",
       "        text-align: right;\n",
       "    }\n",
       "</style>\n",
       "<table border=\"1\" class=\"dataframe\">\n",
       "  <thead>\n",
       "    <tr style=\"text-align: right;\">\n",
       "      <th></th>\n",
       "      <th>first_order_month</th>\n",
       "      <th>n_buyers</th>\n",
       "    </tr>\n",
       "  </thead>\n",
       "  <tbody>\n",
       "    <tr>\n",
       "      <td>0</td>\n",
       "      <td>2017-06-01</td>\n",
       "      <td>2023</td>\n",
       "    </tr>\n",
       "    <tr>\n",
       "      <td>1</td>\n",
       "      <td>2017-07-01</td>\n",
       "      <td>1923</td>\n",
       "    </tr>\n",
       "    <tr>\n",
       "      <td>2</td>\n",
       "      <td>2017-08-01</td>\n",
       "      <td>1370</td>\n",
       "    </tr>\n",
       "    <tr>\n",
       "      <td>3</td>\n",
       "      <td>2017-09-01</td>\n",
       "      <td>2581</td>\n",
       "    </tr>\n",
       "    <tr>\n",
       "      <td>4</td>\n",
       "      <td>2017-10-01</td>\n",
       "      <td>4340</td>\n",
       "    </tr>\n",
       "  </tbody>\n",
       "</table>\n",
       "</div>"
      ],
      "text/plain": [
       "  first_order_month  n_buyers\n",
       "0        2017-06-01      2023\n",
       "1        2017-07-01      1923\n",
       "2        2017-08-01      1370\n",
       "3        2017-09-01      2581\n",
       "4        2017-10-01      4340"
      ]
     },
     "execution_count": 41,
     "metadata": {},
     "output_type": "execute_result"
    }
   ],
   "source": [
    "#посчитаем количество новых покупателей (n_buyers) за каждый месяц\n",
    "cohort_sizes = orders.groupby('first_order_month').agg({'uid': 'nunique'}).reset_index()\n",
    "cohort_sizes.columns = ['first_order_month', 'n_buyers']\n",
    "cohort_sizes.head()"
   ]
  },
  {
   "cell_type": "code",
   "execution_count": 42,
   "metadata": {},
   "outputs": [],
   "source": [
    "#сформируем когорты по месяцам\n",
    "cohorts = orders.groupby(['first_order_month','order_month']).agg({'revenue': 'sum'}).reset_index()"
   ]
  },
  {
   "cell_type": "code",
   "execution_count": 43,
   "metadata": {},
   "outputs": [
    {
     "data": {
      "text/html": [
       "<div>\n",
       "<style scoped>\n",
       "    .dataframe tbody tr th:only-of-type {\n",
       "        vertical-align: middle;\n",
       "    }\n",
       "\n",
       "    .dataframe tbody tr th {\n",
       "        vertical-align: top;\n",
       "    }\n",
       "\n",
       "    .dataframe thead th {\n",
       "        text-align: right;\n",
       "    }\n",
       "</style>\n",
       "<table border=\"1\" class=\"dataframe\">\n",
       "  <thead>\n",
       "    <tr style=\"text-align: right;\">\n",
       "      <th>age</th>\n",
       "      <th>0</th>\n",
       "      <th>1</th>\n",
       "      <th>2</th>\n",
       "      <th>3</th>\n",
       "      <th>4</th>\n",
       "      <th>5</th>\n",
       "      <th>6</th>\n",
       "      <th>7</th>\n",
       "      <th>8</th>\n",
       "      <th>9</th>\n",
       "      <th>10</th>\n",
       "      <th>11</th>\n",
       "    </tr>\n",
       "    <tr>\n",
       "      <th>first_order_month</th>\n",
       "      <th></th>\n",
       "      <th></th>\n",
       "      <th></th>\n",
       "      <th></th>\n",
       "      <th></th>\n",
       "      <th></th>\n",
       "      <th></th>\n",
       "      <th></th>\n",
       "      <th></th>\n",
       "      <th></th>\n",
       "      <th></th>\n",
       "      <th></th>\n",
       "    </tr>\n",
       "  </thead>\n",
       "  <tbody>\n",
       "    <tr>\n",
       "      <td>2017-06-01</td>\n",
       "      <td>4.7</td>\n",
       "      <td>5.2</td>\n",
       "      <td>5.6</td>\n",
       "      <td>6.6</td>\n",
       "      <td>7.6</td>\n",
       "      <td>8.4</td>\n",
       "      <td>9.3</td>\n",
       "      <td>9.9</td>\n",
       "      <td>10.4</td>\n",
       "      <td>11.1</td>\n",
       "      <td>11.6</td>\n",
       "      <td>11.9</td>\n",
       "    </tr>\n",
       "    <tr>\n",
       "      <td>2017-07-01</td>\n",
       "      <td>6.0</td>\n",
       "      <td>6.3</td>\n",
       "      <td>7</td>\n",
       "      <td>7.3</td>\n",
       "      <td>7.5</td>\n",
       "      <td>7.7</td>\n",
       "      <td>7.8</td>\n",
       "      <td>7.9</td>\n",
       "      <td>8.1</td>\n",
       "      <td>8.2</td>\n",
       "      <td>8.4</td>\n",
       "      <td></td>\n",
       "    </tr>\n",
       "    <tr>\n",
       "      <td>2017-08-01</td>\n",
       "      <td>5.3</td>\n",
       "      <td>5.7</td>\n",
       "      <td>6.2</td>\n",
       "      <td>6.6</td>\n",
       "      <td>7.1</td>\n",
       "      <td>7.4</td>\n",
       "      <td>7.6</td>\n",
       "      <td>8</td>\n",
       "      <td>8.3</td>\n",
       "      <td>8.5</td>\n",
       "      <td></td>\n",
       "      <td></td>\n",
       "    </tr>\n",
       "    <tr>\n",
       "      <td>2017-09-01</td>\n",
       "      <td>5.6</td>\n",
       "      <td>6.8</td>\n",
       "      <td>7.3</td>\n",
       "      <td>11.3</td>\n",
       "      <td>11.7</td>\n",
       "      <td>12.3</td>\n",
       "      <td>13</td>\n",
       "      <td>13.3</td>\n",
       "      <td>13.4</td>\n",
       "      <td></td>\n",
       "      <td></td>\n",
       "      <td></td>\n",
       "    </tr>\n",
       "    <tr>\n",
       "      <td>2017-10-01</td>\n",
       "      <td>5.0</td>\n",
       "      <td>5.5</td>\n",
       "      <td>5.7</td>\n",
       "      <td>5.9</td>\n",
       "      <td>6</td>\n",
       "      <td>6.2</td>\n",
       "      <td>6.2</td>\n",
       "      <td>6.4</td>\n",
       "      <td></td>\n",
       "      <td></td>\n",
       "      <td></td>\n",
       "      <td></td>\n",
       "    </tr>\n",
       "    <tr>\n",
       "      <td>2017-11-01</td>\n",
       "      <td>5.2</td>\n",
       "      <td>5.6</td>\n",
       "      <td>5.8</td>\n",
       "      <td>6.1</td>\n",
       "      <td>6.2</td>\n",
       "      <td>6.3</td>\n",
       "      <td>6.4</td>\n",
       "      <td></td>\n",
       "      <td></td>\n",
       "      <td></td>\n",
       "      <td></td>\n",
       "      <td></td>\n",
       "    </tr>\n",
       "    <tr>\n",
       "      <td>2017-12-01</td>\n",
       "      <td>4.7</td>\n",
       "      <td>5</td>\n",
       "      <td>5.9</td>\n",
       "      <td>7</td>\n",
       "      <td>7.3</td>\n",
       "      <td>7.6</td>\n",
       "      <td></td>\n",
       "      <td></td>\n",
       "      <td></td>\n",
       "      <td></td>\n",
       "      <td></td>\n",
       "      <td></td>\n",
       "    </tr>\n",
       "    <tr>\n",
       "      <td>2018-01-01</td>\n",
       "      <td>4.1</td>\n",
       "      <td>4.4</td>\n",
       "      <td>4.7</td>\n",
       "      <td>4.9</td>\n",
       "      <td>4.9</td>\n",
       "      <td></td>\n",
       "      <td></td>\n",
       "      <td></td>\n",
       "      <td></td>\n",
       "      <td></td>\n",
       "      <td></td>\n",
       "      <td></td>\n",
       "    </tr>\n",
       "    <tr>\n",
       "      <td>2018-02-01</td>\n",
       "      <td>4.2</td>\n",
       "      <td>4.4</td>\n",
       "      <td>4.5</td>\n",
       "      <td>4.6</td>\n",
       "      <td></td>\n",
       "      <td></td>\n",
       "      <td></td>\n",
       "      <td></td>\n",
       "      <td></td>\n",
       "      <td></td>\n",
       "      <td></td>\n",
       "      <td></td>\n",
       "    </tr>\n",
       "    <tr>\n",
       "      <td>2018-03-01</td>\n",
       "      <td>4.8</td>\n",
       "      <td>5.1</td>\n",
       "      <td>5.5</td>\n",
       "      <td></td>\n",
       "      <td></td>\n",
       "      <td></td>\n",
       "      <td></td>\n",
       "      <td></td>\n",
       "      <td></td>\n",
       "      <td></td>\n",
       "      <td></td>\n",
       "      <td></td>\n",
       "    </tr>\n",
       "    <tr>\n",
       "      <td>2018-04-01</td>\n",
       "      <td>4.7</td>\n",
       "      <td>5.2</td>\n",
       "      <td></td>\n",
       "      <td></td>\n",
       "      <td></td>\n",
       "      <td></td>\n",
       "      <td></td>\n",
       "      <td></td>\n",
       "      <td></td>\n",
       "      <td></td>\n",
       "      <td></td>\n",
       "      <td></td>\n",
       "    </tr>\n",
       "    <tr>\n",
       "      <td>2018-05-01</td>\n",
       "      <td>4.7</td>\n",
       "      <td></td>\n",
       "      <td></td>\n",
       "      <td></td>\n",
       "      <td></td>\n",
       "      <td></td>\n",
       "      <td></td>\n",
       "      <td></td>\n",
       "      <td></td>\n",
       "      <td></td>\n",
       "      <td></td>\n",
       "      <td></td>\n",
       "    </tr>\n",
       "    <tr>\n",
       "      <td>2018-06-01</td>\n",
       "      <td>3.4</td>\n",
       "      <td></td>\n",
       "      <td></td>\n",
       "      <td></td>\n",
       "      <td></td>\n",
       "      <td></td>\n",
       "      <td></td>\n",
       "      <td></td>\n",
       "      <td></td>\n",
       "      <td></td>\n",
       "      <td></td>\n",
       "      <td></td>\n",
       "    </tr>\n",
       "  </tbody>\n",
       "</table>\n",
       "</div>"
      ],
      "text/plain": [
       "age                 0    1    2     3     4     5    6     7     8     9   \\\n",
       "first_order_month                                                           \n",
       "2017-06-01         4.7  5.2  5.6   6.6   7.6   8.4  9.3   9.9  10.4  11.1   \n",
       "2017-07-01         6.0  6.3    7   7.3   7.5   7.7  7.8   7.9   8.1   8.2   \n",
       "2017-08-01         5.3  5.7  6.2   6.6   7.1   7.4  7.6     8   8.3   8.5   \n",
       "2017-09-01         5.6  6.8  7.3  11.3  11.7  12.3   13  13.3  13.4         \n",
       "2017-10-01         5.0  5.5  5.7   5.9     6   6.2  6.2   6.4               \n",
       "2017-11-01         5.2  5.6  5.8   6.1   6.2   6.3  6.4                     \n",
       "2017-12-01         4.7    5  5.9     7   7.3   7.6                          \n",
       "2018-01-01         4.1  4.4  4.7   4.9   4.9                                \n",
       "2018-02-01         4.2  4.4  4.5   4.6                                      \n",
       "2018-03-01         4.8  5.1  5.5                                            \n",
       "2018-04-01         4.7  5.2                                                 \n",
       "2018-05-01         4.7                                                      \n",
       "2018-06-01         3.4                                                      \n",
       "\n",
       "age                  10    11  \n",
       "first_order_month              \n",
       "2017-06-01         11.6  11.9  \n",
       "2017-07-01          8.4        \n",
       "2017-08-01                     \n",
       "2017-09-01                     \n",
       "2017-10-01                     \n",
       "2017-11-01                     \n",
       "2017-12-01                     \n",
       "2018-01-01                     \n",
       "2018-02-01                     \n",
       "2018-03-01                     \n",
       "2018-04-01                     \n",
       "2018-05-01                     \n",
       "2018-06-01                     "
      ]
     },
     "execution_count": 43,
     "metadata": {},
     "output_type": "execute_result"
    }
   ],
   "source": [
    "report = cohorts.merge(cohort_sizes, on='first_order_month')\n",
    "\n",
    "report['age'] = (report['order_month'] - report['first_order_month']) / np.timedelta64(1, 'M')\n",
    "report['age'] = report['age'].round().astype('int')\n",
    "report['ltv'] = report['revenue'] / report['n_buyers'] #посчитаем, сколько денег приносят пользователи\n",
    "\n",
    "result = report.pivot_table(index='first_order_month',\n",
    "                            columns='age',\n",
    "                            values='ltv',\n",
    "                            aggfunc='mean').cumsum(axis=1).round(1)\n",
    "\n",
    "result.fillna('')"
   ]
  },
  {
   "cell_type": "code",
   "execution_count": 44,
   "metadata": {},
   "outputs": [
    {
     "data": {
      "image/png": "[encoded data removed]",
      "text/plain": [
       "<Figure size 1080x648 with 2 Axes>"
      ]
     },
     "metadata": {},
     "output_type": "display_data"
    }
   ],
   "source": [
    "#визуализируем LTV\n",
    "sns.set(style='white')\n",
    "plt.figure(figsize=(15,9))\n",
    "plt.title('LTV')\n",
    "sns.heatmap(result, annot=True, fmt='.3', linewidths=.5, linecolor='gray');"
   ]
  },
  {
   "cell_type": "markdown",
   "metadata": {},
   "source": [
    "## Выводы"
   ]
  },
  {
   "cell_type": "markdown",
   "metadata": {},
   "source": [
    "- покупать люди начинают в среднем через 16 минут после начала сессии;\n",
    "- после первого месяцв число покупок резко снижается;\n",
    "- средний чек составляет 5 т.р.;\n",
    "- по показателю LTV первая когорта была самая стабильная - практически в каждом месяце она показывала лучший результат по LTV среди всех когорт; вероятно, это коррелирует с наилучшим показателем Retention этой же когорты."
   ]
  },
  {
   "cell_type": "markdown",
   "metadata": {},
   "source": [
    "#### Анализ данных по маркетингу:\n",
    "    \n",
    "- Сколько денег потратили? Всего/ на каждый источник/ по времени\n",
    "- Сколько стоило привлечение одного покупателя из каждого источника?\n",
    "- На сколько окупились расходы? (ROI)"
   ]
  },
  {
   "cell_type": "markdown",
   "metadata": {},
   "source": [
    "##### посчитаем, сколько денег потратили"
   ]
  },
  {
   "cell_type": "code",
   "execution_count": 45,
   "metadata": {},
   "outputs": [
    {
     "data": {
      "text/plain": [
       "329131.62"
      ]
     },
     "execution_count": 45,
     "metadata": {},
     "output_type": "execute_result"
    }
   ],
   "source": [
    "#выведем, сколько денег потратили всего\n",
    "costs['costs'].sum()"
   ]
  },
  {
   "cell_type": "code",
   "execution_count": 46,
   "metadata": {},
   "outputs": [
    {
     "data": {
      "text/html": [
       "<div>\n",
       "<style scoped>\n",
       "    .dataframe tbody tr th:only-of-type {\n",
       "        vertical-align: middle;\n",
       "    }\n",
       "\n",
       "    .dataframe tbody tr th {\n",
       "        vertical-align: top;\n",
       "    }\n",
       "\n",
       "    .dataframe thead th {\n",
       "        text-align: right;\n",
       "    }\n",
       "</style>\n",
       "<table border=\"1\" class=\"dataframe\">\n",
       "  <thead>\n",
       "    <tr style=\"text-align: right;\">\n",
       "      <th></th>\n",
       "      <th>costs</th>\n",
       "    </tr>\n",
       "    <tr>\n",
       "      <th>source_id</th>\n",
       "      <th></th>\n",
       "    </tr>\n",
       "  </thead>\n",
       "  <tbody>\n",
       "    <tr>\n",
       "      <td>1</td>\n",
       "      <td>20833.27</td>\n",
       "    </tr>\n",
       "    <tr>\n",
       "      <td>2</td>\n",
       "      <td>42806.04</td>\n",
       "    </tr>\n",
       "    <tr>\n",
       "      <td>3</td>\n",
       "      <td>141321.63</td>\n",
       "    </tr>\n",
       "    <tr>\n",
       "      <td>4</td>\n",
       "      <td>61073.60</td>\n",
       "    </tr>\n",
       "    <tr>\n",
       "      <td>5</td>\n",
       "      <td>51757.10</td>\n",
       "    </tr>\n",
       "    <tr>\n",
       "      <td>9</td>\n",
       "      <td>5517.49</td>\n",
       "    </tr>\n",
       "    <tr>\n",
       "      <td>10</td>\n",
       "      <td>5822.49</td>\n",
       "    </tr>\n",
       "  </tbody>\n",
       "</table>\n",
       "</div>"
      ],
      "text/plain": [
       "               costs\n",
       "source_id           \n",
       "1           20833.27\n",
       "2           42806.04\n",
       "3          141321.63\n",
       "4           61073.60\n",
       "5           51757.10\n",
       "9            5517.49\n",
       "10           5822.49"
      ]
     },
     "execution_count": 46,
     "metadata": {},
     "output_type": "execute_result"
    }
   ],
   "source": [
    "#выведем, сколько денег потратили на каждый источник\n",
    "costs.groupby('source_id').agg({'costs': 'sum'})"
   ]
  },
  {
   "cell_type": "code",
   "execution_count": 47,
   "metadata": {},
   "outputs": [
    {
     "data": {
      "text/html": [
       "<div>\n",
       "<style scoped>\n",
       "    .dataframe tbody tr th:only-of-type {\n",
       "        vertical-align: middle;\n",
       "    }\n",
       "\n",
       "    .dataframe tbody tr th {\n",
       "        vertical-align: top;\n",
       "    }\n",
       "\n",
       "    .dataframe thead th {\n",
       "        text-align: right;\n",
       "    }\n",
       "</style>\n",
       "<table border=\"1\" class=\"dataframe\">\n",
       "  <thead>\n",
       "    <tr style=\"text-align: right;\">\n",
       "      <th></th>\n",
       "      <th>source_id</th>\n",
       "      <th>date</th>\n",
       "      <th>costs</th>\n",
       "      <th>month</th>\n",
       "    </tr>\n",
       "  </thead>\n",
       "  <tbody>\n",
       "    <tr>\n",
       "      <td>0</td>\n",
       "      <td>1</td>\n",
       "      <td>2017-06-01</td>\n",
       "      <td>75.20</td>\n",
       "      <td>2017-06-01</td>\n",
       "    </tr>\n",
       "    <tr>\n",
       "      <td>1</td>\n",
       "      <td>1</td>\n",
       "      <td>2017-06-02</td>\n",
       "      <td>62.25</td>\n",
       "      <td>2017-06-01</td>\n",
       "    </tr>\n",
       "    <tr>\n",
       "      <td>2</td>\n",
       "      <td>1</td>\n",
       "      <td>2017-06-03</td>\n",
       "      <td>36.53</td>\n",
       "      <td>2017-06-01</td>\n",
       "    </tr>\n",
       "    <tr>\n",
       "      <td>3</td>\n",
       "      <td>1</td>\n",
       "      <td>2017-06-04</td>\n",
       "      <td>55.00</td>\n",
       "      <td>2017-06-01</td>\n",
       "    </tr>\n",
       "    <tr>\n",
       "      <td>4</td>\n",
       "      <td>1</td>\n",
       "      <td>2017-06-05</td>\n",
       "      <td>57.08</td>\n",
       "      <td>2017-06-01</td>\n",
       "    </tr>\n",
       "  </tbody>\n",
       "</table>\n",
       "</div>"
      ],
      "text/plain": [
       "   source_id       date  costs      month\n",
       "0          1 2017-06-01  75.20 2017-06-01\n",
       "1          1 2017-06-02  62.25 2017-06-01\n",
       "2          1 2017-06-03  36.53 2017-06-01\n",
       "3          1 2017-06-04  55.00 2017-06-01\n",
       "4          1 2017-06-05  57.08 2017-06-01"
      ]
     },
     "execution_count": 47,
     "metadata": {},
     "output_type": "execute_result"
    }
   ],
   "source": [
    "#выделим месяцы из дат в таблице с расходами\n",
    "costs['month'] = costs['date'].astype('datetime64[M]')\n",
    "costs.head()"
   ]
  },
  {
   "cell_type": "code",
   "execution_count": 48,
   "metadata": {},
   "outputs": [
    {
     "data": {
      "text/html": [
       "<div>\n",
       "<style scoped>\n",
       "    .dataframe tbody tr th:only-of-type {\n",
       "        vertical-align: middle;\n",
       "    }\n",
       "\n",
       "    .dataframe tbody tr th {\n",
       "        vertical-align: top;\n",
       "    }\n",
       "\n",
       "    .dataframe thead th {\n",
       "        text-align: right;\n",
       "    }\n",
       "</style>\n",
       "<table border=\"1\" class=\"dataframe\">\n",
       "  <thead>\n",
       "    <tr style=\"text-align: right;\">\n",
       "      <th></th>\n",
       "      <th>month</th>\n",
       "      <th>source_id</th>\n",
       "      <th>costs</th>\n",
       "    </tr>\n",
       "  </thead>\n",
       "  <tbody>\n",
       "    <tr>\n",
       "      <td>0</td>\n",
       "      <td>2017-06-01</td>\n",
       "      <td>1</td>\n",
       "      <td>1125.61</td>\n",
       "    </tr>\n",
       "    <tr>\n",
       "      <td>1</td>\n",
       "      <td>2017-06-01</td>\n",
       "      <td>2</td>\n",
       "      <td>2427.38</td>\n",
       "    </tr>\n",
       "    <tr>\n",
       "      <td>2</td>\n",
       "      <td>2017-06-01</td>\n",
       "      <td>3</td>\n",
       "      <td>7731.65</td>\n",
       "    </tr>\n",
       "    <tr>\n",
       "      <td>3</td>\n",
       "      <td>2017-06-01</td>\n",
       "      <td>4</td>\n",
       "      <td>3514.80</td>\n",
       "    </tr>\n",
       "    <tr>\n",
       "      <td>4</td>\n",
       "      <td>2017-06-01</td>\n",
       "      <td>5</td>\n",
       "      <td>2616.12</td>\n",
       "    </tr>\n",
       "  </tbody>\n",
       "</table>\n",
       "</div>"
      ],
      "text/plain": [
       "       month  source_id    costs\n",
       "0 2017-06-01          1  1125.61\n",
       "1 2017-06-01          2  2427.38\n",
       "2 2017-06-01          3  7731.65\n",
       "3 2017-06-01          4  3514.80\n",
       "4 2017-06-01          5  2616.12"
      ]
     },
     "execution_count": 48,
     "metadata": {},
     "output_type": "execute_result"
    }
   ],
   "source": [
    "#найдём суммарные расходы за каждый месяц\n",
    "monthly_costs = costs.groupby(['month', 'source_id']).agg({'costs':'sum'}).reset_index()\n",
    "monthly_costs.head()"
   ]
  },
  {
   "cell_type": "code",
   "execution_count": 49,
   "metadata": {},
   "outputs": [
    {
     "data": {
      "image/png": "[encoded data removed]",
      "text/plain": [
       "<Figure size 1080x504 with 1 Axes>"
      ]
     },
     "metadata": {},
     "output_type": "display_data"
    }
   ],
   "source": [
    "#выведем график изменения суммарных расходов когорт в зависимости от источника\n",
    "monthly_costs_gr = costs.groupby(['source_id', 'month']).agg({'costs': 'sum'}).reset_index()\n",
    "fig, ax = plt.subplots()    \n",
    "\n",
    "def graphic(data):\n",
    "    data.plot(x='month', y='costs', style='o-', ax=ax, grid=True, legend=True, figsize=(15, 7))\n",
    "\n",
    "for i in monthly_costs_gr['source_id'].unique():\n",
    "    graphic(monthly_costs_gr.query('source_id == @i'))"
   ]
  },
  {
   "cell_type": "markdown",
   "metadata": {},
   "source": [
    "##### стоимость привлечения одного покупателя из каждого источника"
   ]
  },
  {
   "cell_type": "code",
   "execution_count": 50,
   "metadata": {},
   "outputs": [
    {
     "data": {
      "text/html": [
       "<div>\n",
       "<style scoped>\n",
       "    .dataframe tbody tr th:only-of-type {\n",
       "        vertical-align: middle;\n",
       "    }\n",
       "\n",
       "    .dataframe tbody tr th {\n",
       "        vertical-align: top;\n",
       "    }\n",
       "\n",
       "    .dataframe thead th {\n",
       "        text-align: right;\n",
       "    }\n",
       "</style>\n",
       "<table border=\"1\" class=\"dataframe\">\n",
       "  <thead>\n",
       "    <tr style=\"text-align: right;\">\n",
       "      <th></th>\n",
       "      <th>source_id</th>\n",
       "      <th>costs</th>\n",
       "      <th>revenue</th>\n",
       "      <th>uid</th>\n",
       "      <th>clients</th>\n",
       "    </tr>\n",
       "  </thead>\n",
       "  <tbody>\n",
       "    <tr>\n",
       "      <td>0</td>\n",
       "      <td>1</td>\n",
       "      <td>20833.27</td>\n",
       "      <td>31090.55</td>\n",
       "      <td>18999</td>\n",
       "      <td>2899.0</td>\n",
       "    </tr>\n",
       "    <tr>\n",
       "      <td>1</td>\n",
       "      <td>2</td>\n",
       "      <td>42806.04</td>\n",
       "      <td>46923.61</td>\n",
       "      <td>26245</td>\n",
       "      <td>3506.0</td>\n",
       "    </tr>\n",
       "    <tr>\n",
       "      <td>2</td>\n",
       "      <td>3</td>\n",
       "      <td>141321.63</td>\n",
       "      <td>54511.24</td>\n",
       "      <td>74756</td>\n",
       "      <td>10473.0</td>\n",
       "    </tr>\n",
       "    <tr>\n",
       "      <td>3</td>\n",
       "      <td>4</td>\n",
       "      <td>61073.60</td>\n",
       "      <td>56696.83</td>\n",
       "      <td>83525</td>\n",
       "      <td>10296.0</td>\n",
       "    </tr>\n",
       "    <tr>\n",
       "      <td>4</td>\n",
       "      <td>5</td>\n",
       "      <td>51757.10</td>\n",
       "      <td>52624.02</td>\n",
       "      <td>56974</td>\n",
       "      <td>6931.0</td>\n",
       "    </tr>\n",
       "    <tr>\n",
       "      <td>5</td>\n",
       "      <td>6</td>\n",
       "      <td>0.00</td>\n",
       "      <td>0.00</td>\n",
       "      <td>6</td>\n",
       "      <td>0.0</td>\n",
       "    </tr>\n",
       "    <tr>\n",
       "      <td>6</td>\n",
       "      <td>7</td>\n",
       "      <td>0.00</td>\n",
       "      <td>1.22</td>\n",
       "      <td>34</td>\n",
       "      <td>1.0</td>\n",
       "    </tr>\n",
       "    <tr>\n",
       "      <td>7</td>\n",
       "      <td>9</td>\n",
       "      <td>5517.49</td>\n",
       "      <td>5759.40</td>\n",
       "      <td>9264</td>\n",
       "      <td>1088.0</td>\n",
       "    </tr>\n",
       "    <tr>\n",
       "      <td>8</td>\n",
       "      <td>10</td>\n",
       "      <td>5822.49</td>\n",
       "      <td>4450.33</td>\n",
       "      <td>8067</td>\n",
       "      <td>1329.0</td>\n",
       "    </tr>\n",
       "  </tbody>\n",
       "</table>\n",
       "</div>"
      ],
      "text/plain": [
       "   source_id      costs   revenue    uid  clients\n",
       "0          1   20833.27  31090.55  18999   2899.0\n",
       "1          2   42806.04  46923.61  26245   3506.0\n",
       "2          3  141321.63  54511.24  74756  10473.0\n",
       "3          4   61073.60  56696.83  83525  10296.0\n",
       "4          5   51757.10  52624.02  56974   6931.0\n",
       "5          6       0.00      0.00      6      0.0\n",
       "6          7       0.00      1.22     34      1.0\n",
       "7          9    5517.49   5759.40   9264   1088.0\n",
       "8         10    5822.49   4450.33   8067   1329.0"
      ]
     },
     "execution_count": 50,
     "metadata": {},
     "output_type": "execute_result"
    }
   ],
   "source": [
    "#определим посетителей\n",
    "visits_sorted = visits.sort_values(by='session_start')\n",
    "\n",
    "#сгруппируем затраты по источникам\n",
    "costs_per_source = costs.groupby('source_id').agg({'costs': 'sum'})\n",
    "\n",
    "#сгруппируем выручку по источникам\n",
    "first_source_per_user = visits_sorted.groupby('uid').agg({'source_id': 'first'})\n",
    "client_per_source = orders.merge(first_source_per_user, on='uid')\n",
    "client_per_source = client_per_source.groupby('source_id').agg({'uid': 'nunique'})\n",
    "\n",
    "#сгруппируем уникальных пользователей по источникам\n",
    "uid_per_source = visits_sorted.groupby('source_id').agg({'uid': 'nunique'})\n",
    "\n",
    "#сгруппируем выручку с каждого источника\n",
    "revenue_per_source = orders.merge(first_source_per_user, on='uid')\n",
    "revenue_per_source = revenue_per_source.groupby('source_id').agg({'revenue': 'sum'})\n",
    "\n",
    "#объединим полученные данные\n",
    "revenue_uid_costs_per_source = pd.concat([costs_per_source, revenue_per_source, \n",
    "                                      uid_per_source, client_per_source],axis=1).fillna(0)\n",
    "revenue_uid_costs_per_source = revenue_uid_costs_per_source.reset_index()\n",
    "revenue_uid_costs_per_source.columns = ['source_id', 'costs', 'revenue', 'uid', 'clients']\n",
    "revenue_uid_costs_per_source"
   ]
  },
  {
   "cell_type": "code",
   "execution_count": 51,
   "metadata": {},
   "outputs": [
    {
     "data": {
      "text/html": [
       "<div>\n",
       "<style scoped>\n",
       "    .dataframe tbody tr th:only-of-type {\n",
       "        vertical-align: middle;\n",
       "    }\n",
       "\n",
       "    .dataframe tbody tr th {\n",
       "        vertical-align: top;\n",
       "    }\n",
       "\n",
       "    .dataframe thead th {\n",
       "        text-align: right;\n",
       "    }\n",
       "</style>\n",
       "<table border=\"1\" class=\"dataframe\">\n",
       "  <thead>\n",
       "    <tr style=\"text-align: right;\">\n",
       "      <th></th>\n",
       "      <th>cac</th>\n",
       "    </tr>\n",
       "  </thead>\n",
       "  <tbody>\n",
       "    <tr>\n",
       "      <td>2</td>\n",
       "      <td>13.49</td>\n",
       "    </tr>\n",
       "    <tr>\n",
       "      <td>1</td>\n",
       "      <td>12.21</td>\n",
       "    </tr>\n",
       "    <tr>\n",
       "      <td>4</td>\n",
       "      <td>7.47</td>\n",
       "    </tr>\n",
       "    <tr>\n",
       "      <td>0</td>\n",
       "      <td>7.19</td>\n",
       "    </tr>\n",
       "    <tr>\n",
       "      <td>3</td>\n",
       "      <td>5.93</td>\n",
       "    </tr>\n",
       "    <tr>\n",
       "      <td>7</td>\n",
       "      <td>5.07</td>\n",
       "    </tr>\n",
       "    <tr>\n",
       "      <td>8</td>\n",
       "      <td>4.38</td>\n",
       "    </tr>\n",
       "    <tr>\n",
       "      <td>6</td>\n",
       "      <td>0.00</td>\n",
       "    </tr>\n",
       "    <tr>\n",
       "      <td>5</td>\n",
       "      <td>NaN</td>\n",
       "    </tr>\n",
       "  </tbody>\n",
       "</table>\n",
       "</div>"
      ],
      "text/plain": [
       "     cac\n",
       "2  13.49\n",
       "1  12.21\n",
       "4   7.47\n",
       "0   7.19\n",
       "3   5.93\n",
       "7   5.07\n",
       "8   4.38\n",
       "6   0.00\n",
       "5    NaN"
      ]
     },
     "execution_count": 51,
     "metadata": {},
     "output_type": "execute_result"
    }
   ],
   "source": [
    "#выведем стоимость привлечения одного покупателя из каждого источника\n",
    "revenue_uid_costs_per_source['cac'] = revenue_uid_costs_per_source['costs'] / revenue_uid_costs_per_source['clients']\n",
    "revenue_uid_costs_per_source['cac'] = revenue_uid_costs_per_source['cac'].round(2)\n",
    "revenue_uid_costs_per_source['cac'].sort_values(ascending=False).to_frame()"
   ]
  },
  {
   "cell_type": "code",
   "execution_count": 52,
   "metadata": {},
   "outputs": [
    {
     "data": {
      "text/plain": [
       "7.0"
      ]
     },
     "execution_count": 52,
     "metadata": {},
     "output_type": "execute_result"
    }
   ],
   "source": [
    "#выведем среднюю стоимость привлечения покупателя для всех источников\n",
    "revenue_uid_costs_per_source['cac'].mean().round()"
   ]
  },
  {
   "cell_type": "code",
   "execution_count": 53,
   "metadata": {},
   "outputs": [
    {
     "data": {
      "text/plain": [
       "<matplotlib.axes._subplots.AxesSubplot at 0x7f9bc181e9d0>"
      ]
     },
     "execution_count": 53,
     "metadata": {},
     "output_type": "execute_result"
    },
    {
     "data": {
      "image/png": "[encoded data removed]",
      "text/plain": [
       "<Figure size 936x504 with 1 Axes>"
      ]
     },
     "metadata": {},
     "output_type": "display_data"
    }
   ],
   "source": [
    "#визуализируем CAC\n",
    "revenue_uid_costs_per_source['cac'].plot(kind='bar', figsize=(13,7), style='o-', grid=True, y='source_id', x='cac', alpha=0.8, title='CAC')"
   ]
  },
  {
   "cell_type": "markdown",
   "metadata": {},
   "source": [
    "##### на сколько окупились расходы (ROMI)"
   ]
  },
  {
   "cell_type": "code",
   "execution_count": 54,
   "metadata": {},
   "outputs": [
    {
     "data": {
      "text/html": [
       "<div>\n",
       "<style scoped>\n",
       "    .dataframe tbody tr th:only-of-type {\n",
       "        vertical-align: middle;\n",
       "    }\n",
       "\n",
       "    .dataframe tbody tr th {\n",
       "        vertical-align: top;\n",
       "    }\n",
       "\n",
       "    .dataframe thead th {\n",
       "        text-align: right;\n",
       "    }\n",
       "</style>\n",
       "<table border=\"1\" class=\"dataframe\">\n",
       "  <thead>\n",
       "    <tr style=\"text-align: right;\">\n",
       "      <th>age</th>\n",
       "      <th>0</th>\n",
       "      <th>1</th>\n",
       "      <th>2</th>\n",
       "      <th>3</th>\n",
       "      <th>4</th>\n",
       "      <th>5</th>\n",
       "      <th>6</th>\n",
       "      <th>7</th>\n",
       "      <th>8</th>\n",
       "      <th>9</th>\n",
       "      <th>10</th>\n",
       "      <th>11</th>\n",
       "    </tr>\n",
       "    <tr>\n",
       "      <th>first_purchase_date</th>\n",
       "      <th></th>\n",
       "      <th></th>\n",
       "      <th></th>\n",
       "      <th></th>\n",
       "      <th></th>\n",
       "      <th></th>\n",
       "      <th></th>\n",
       "      <th></th>\n",
       "      <th></th>\n",
       "      <th></th>\n",
       "      <th></th>\n",
       "      <th></th>\n",
       "    </tr>\n",
       "  </thead>\n",
       "  <tbody>\n",
       "    <tr>\n",
       "      <td>2017-06-01</td>\n",
       "      <td>0.53</td>\n",
       "      <td>0.59</td>\n",
       "      <td>0.63</td>\n",
       "      <td>0.74</td>\n",
       "      <td>0.86</td>\n",
       "      <td>0.94</td>\n",
       "      <td>1.05</td>\n",
       "      <td>1.11</td>\n",
       "      <td>1.17</td>\n",
       "      <td>1.24</td>\n",
       "      <td>1.31</td>\n",
       "      <td>1.33</td>\n",
       "    </tr>\n",
       "    <tr>\n",
       "      <td>2017-07-01</td>\n",
       "      <td>0.63</td>\n",
       "      <td>0.67</td>\n",
       "      <td>0.73</td>\n",
       "      <td>0.77</td>\n",
       "      <td>0.79</td>\n",
       "      <td>0.81</td>\n",
       "      <td>0.82</td>\n",
       "      <td>0.84</td>\n",
       "      <td>0.85</td>\n",
       "      <td>0.87</td>\n",
       "      <td>0.88</td>\n",
       "      <td></td>\n",
       "    </tr>\n",
       "    <tr>\n",
       "      <td>2017-08-01</td>\n",
       "      <td>0.49</td>\n",
       "      <td>0.53</td>\n",
       "      <td>0.57</td>\n",
       "      <td>0.61</td>\n",
       "      <td>0.66</td>\n",
       "      <td>0.68</td>\n",
       "      <td>0.7</td>\n",
       "      <td>0.74</td>\n",
       "      <td>0.77</td>\n",
       "      <td>0.78</td>\n",
       "      <td></td>\n",
       "      <td></td>\n",
       "    </tr>\n",
       "    <tr>\n",
       "      <td>2017-09-01</td>\n",
       "      <td>0.60</td>\n",
       "      <td>0.72</td>\n",
       "      <td>0.77</td>\n",
       "      <td>1.19</td>\n",
       "      <td>1.23</td>\n",
       "      <td>1.3</td>\n",
       "      <td>1.38</td>\n",
       "      <td>1.4</td>\n",
       "      <td>1.42</td>\n",
       "      <td></td>\n",
       "      <td></td>\n",
       "      <td></td>\n",
       "    </tr>\n",
       "    <tr>\n",
       "      <td>2017-10-01</td>\n",
       "      <td>0.60</td>\n",
       "      <td>0.66</td>\n",
       "      <td>0.68</td>\n",
       "      <td>0.7</td>\n",
       "      <td>0.72</td>\n",
       "      <td>0.74</td>\n",
       "      <td>0.75</td>\n",
       "      <td>0.76</td>\n",
       "      <td></td>\n",
       "      <td></td>\n",
       "      <td></td>\n",
       "      <td></td>\n",
       "    </tr>\n",
       "    <tr>\n",
       "      <td>2017-11-01</td>\n",
       "      <td>0.55</td>\n",
       "      <td>0.6</td>\n",
       "      <td>0.62</td>\n",
       "      <td>0.65</td>\n",
       "      <td>0.67</td>\n",
       "      <td>0.68</td>\n",
       "      <td>0.69</td>\n",
       "      <td></td>\n",
       "      <td></td>\n",
       "      <td></td>\n",
       "      <td></td>\n",
       "      <td></td>\n",
       "    </tr>\n",
       "    <tr>\n",
       "      <td>2017-12-01</td>\n",
       "      <td>0.54</td>\n",
       "      <td>0.57</td>\n",
       "      <td>0.68</td>\n",
       "      <td>0.8</td>\n",
       "      <td>0.84</td>\n",
       "      <td>0.87</td>\n",
       "      <td></td>\n",
       "      <td></td>\n",
       "      <td></td>\n",
       "      <td></td>\n",
       "      <td></td>\n",
       "      <td></td>\n",
       "    </tr>\n",
       "    <tr>\n",
       "      <td>2018-01-01</td>\n",
       "      <td>0.42</td>\n",
       "      <td>0.45</td>\n",
       "      <td>0.48</td>\n",
       "      <td>0.49</td>\n",
       "      <td>0.5</td>\n",
       "      <td></td>\n",
       "      <td></td>\n",
       "      <td></td>\n",
       "      <td></td>\n",
       "      <td></td>\n",
       "      <td></td>\n",
       "      <td></td>\n",
       "    </tr>\n",
       "    <tr>\n",
       "      <td>2018-02-01</td>\n",
       "      <td>0.46</td>\n",
       "      <td>0.49</td>\n",
       "      <td>0.5</td>\n",
       "      <td>0.51</td>\n",
       "      <td></td>\n",
       "      <td></td>\n",
       "      <td></td>\n",
       "      <td></td>\n",
       "      <td></td>\n",
       "      <td></td>\n",
       "      <td></td>\n",
       "      <td></td>\n",
       "    </tr>\n",
       "    <tr>\n",
       "      <td>2018-03-01</td>\n",
       "      <td>0.56</td>\n",
       "      <td>0.6</td>\n",
       "      <td>0.63</td>\n",
       "      <td></td>\n",
       "      <td></td>\n",
       "      <td></td>\n",
       "      <td></td>\n",
       "      <td></td>\n",
       "      <td></td>\n",
       "      <td></td>\n",
       "      <td></td>\n",
       "      <td></td>\n",
       "    </tr>\n",
       "    <tr>\n",
       "      <td>2018-04-01</td>\n",
       "      <td>0.48</td>\n",
       "      <td>0.53</td>\n",
       "      <td></td>\n",
       "      <td></td>\n",
       "      <td></td>\n",
       "      <td></td>\n",
       "      <td></td>\n",
       "      <td></td>\n",
       "      <td></td>\n",
       "      <td></td>\n",
       "      <td></td>\n",
       "      <td></td>\n",
       "    </tr>\n",
       "    <tr>\n",
       "      <td>2018-05-01</td>\n",
       "      <td>0.63</td>\n",
       "      <td></td>\n",
       "      <td></td>\n",
       "      <td></td>\n",
       "      <td></td>\n",
       "      <td></td>\n",
       "      <td></td>\n",
       "      <td></td>\n",
       "      <td></td>\n",
       "      <td></td>\n",
       "      <td></td>\n",
       "      <td></td>\n",
       "    </tr>\n",
       "  </tbody>\n",
       "</table>\n",
       "</div>"
      ],
      "text/plain": [
       "age                    0     1     2     3     4     5     6     7     8   \\\n",
       "first_purchase_date                                                         \n",
       "2017-06-01           0.53  0.59  0.63  0.74  0.86  0.94  1.05  1.11  1.17   \n",
       "2017-07-01           0.63  0.67  0.73  0.77  0.79  0.81  0.82  0.84  0.85   \n",
       "2017-08-01           0.49  0.53  0.57  0.61  0.66  0.68   0.7  0.74  0.77   \n",
       "2017-09-01           0.60  0.72  0.77  1.19  1.23   1.3  1.38   1.4  1.42   \n",
       "2017-10-01           0.60  0.66  0.68   0.7  0.72  0.74  0.75  0.76         \n",
       "2017-11-01           0.55   0.6  0.62  0.65  0.67  0.68  0.69               \n",
       "2017-12-01           0.54  0.57  0.68   0.8  0.84  0.87                     \n",
       "2018-01-01           0.42  0.45  0.48  0.49   0.5                           \n",
       "2018-02-01           0.46  0.49   0.5  0.51                                 \n",
       "2018-03-01           0.56   0.6  0.63                                       \n",
       "2018-04-01           0.48  0.53                                             \n",
       "2018-05-01           0.63                                                   \n",
       "\n",
       "age                    9     10    11  \n",
       "first_purchase_date                    \n",
       "2017-06-01           1.24  1.31  1.33  \n",
       "2017-07-01           0.87  0.88        \n",
       "2017-08-01           0.78              \n",
       "2017-09-01                             \n",
       "2017-10-01                             \n",
       "2017-11-01                             \n",
       "2017-12-01                             \n",
       "2018-01-01                             \n",
       "2018-02-01                             \n",
       "2018-03-01                             \n",
       "2018-04-01                             \n",
       "2018-05-01                             "
      ]
     },
     "execution_count": 54,
     "metadata": {},
     "output_type": "execute_result"
    }
   ],
   "source": [
    "dataframe = pd.merge(first_source_per_user, orders, on='uid')\n",
    "dataframe['purchase_date'] = dataframe['purchase_date'].astype('datetime64[M]')\n",
    "first_orders_month_data = dataframe.groupby('uid').agg({'purchase_date': 'min'}).reset_index()\n",
    "first_orders_month_data.columns = ['uid', 'first_purchase_date']\n",
    "cohort_size = first_orders_month_data.groupby('first_purchase_date').agg({'uid': 'nunique'}).reset_index()\n",
    "cohort_size.columns = ['first_purchase_date', 'n_buyers']\n",
    "orders_new = dataframe.merge(first_orders_month_data, on='uid')\n",
    "cohort_data = orders_new.groupby(['purchase_date', 'first_purchase_date']).agg({'revenue': 'sum'}).reset_index()\n",
    "    \n",
    "report = cohort_data.merge(cohort_size, on='first_purchase_date')\n",
    "report['gp'] = report['revenue']\n",
    "report['age'] = (report['purchase_date'] - report['first_purchase_date']) / np.timedelta64(1, 'M')\n",
    "report['age'] = report['age'].round().astype('int')\n",
    "report['ltv'] = report['gp'] / report['n_buyers']\n",
    "    \n",
    "monthly_one_costs = monthly_costs.groupby('month').agg({'costs': 'sum'}).reset_index()\n",
    "report_one = pd.merge(report, monthly_one_costs, left_on='first_purchase_date', right_on='month')\n",
    "report_one['cac'] = report_one['costs'] / report_one['n_buyers']\n",
    "report_one['romi'] = report_one['ltv'] / report_one['cac']\n",
    "final = report_one.pivot_table(index='first_purchase_date', columns='age',values='romi', aggfunc='mean')\n",
    "romi = final.cumsum(axis=1).round(2)\n",
    "romi.fillna('')"
   ]
  },
  {
   "cell_type": "code",
   "execution_count": 55,
   "metadata": {},
   "outputs": [
    {
     "data": {
      "image/png": "[encoded data removed]",
      "text/plain": [
       "<Figure size 936x648 with 2 Axes>"
      ]
     },
     "metadata": {},
     "output_type": "display_data"
    }
   ],
   "source": [
    "#визуализируем ROMI\n",
    "sns.set(style='white')\n",
    "plt.figure(figsize=(13,9))\n",
    "plt.title('ROMI')\n",
    "sns.heatmap(romi, annot=True, fmt='.3', linewidths=.25, linecolor='gray');"
   ]
  },
  {
   "cell_type": "code",
   "execution_count": 56,
   "metadata": {},
   "outputs": [
    {
     "data": {
      "text/plain": [
       "age\n",
       "0     0.54\n",
       "1     0.58\n",
       "2     0.63\n",
       "3     0.72\n",
       "4     0.78\n",
       "5     0.86\n",
       "6     0.90\n",
       "7     0.97\n",
       "8     1.05\n",
       "9     0.96\n",
       "10    1.10\n",
       "11    1.33\n",
       "dtype: float64"
      ]
     },
     "execution_count": 56,
     "metadata": {},
     "output_type": "execute_result"
    }
   ],
   "source": [
    "#выведем среднюю когорту\n",
    "romi.mean(axis=0).round(2)"
   ]
  },
  {
   "cell_type": "code",
   "execution_count": 57,
   "metadata": {},
   "outputs": [
    {
     "data": {
      "text/plain": [
       "<matplotlib.axes._subplots.AxesSubplot at 0x7f9bbc049e10>"
      ]
     },
     "execution_count": 57,
     "metadata": {},
     "output_type": "execute_result"
    },
    {
     "data": {
      "image/png": "[encoded data removed]",
      "text/plain": [
       "<Figure size 1080x504 with 1 Axes>"
      ]
     },
     "metadata": {},
     "output_type": "display_data"
    }
   ],
   "source": [
    "#выведем суммарный romi для каждой когорты на график\n",
    "cohorts_romi = report_one.groupby('first_purchase_date').agg({'romi': 'sum'}).round(2)\n",
    "cohorts_romi.plot(figsize=(15, 7), style = 'o-', legend=True, grid=True, title='ROMI by cohorts') #выведем график изменения romi в завимисомти от когорты"
   ]
  },
  {
   "cell_type": "code",
   "execution_count": 58,
   "metadata": {},
   "outputs": [
    {
     "data": {
      "text/html": [
       "<div>\n",
       "<style scoped>\n",
       "    .dataframe tbody tr th:only-of-type {\n",
       "        vertical-align: middle;\n",
       "    }\n",
       "\n",
       "    .dataframe tbody tr th {\n",
       "        vertical-align: top;\n",
       "    }\n",
       "\n",
       "    .dataframe thead th {\n",
       "        text-align: right;\n",
       "    }\n",
       "</style>\n",
       "<table border=\"1\" class=\"dataframe\">\n",
       "  <thead>\n",
       "    <tr style=\"text-align: right;\">\n",
       "      <th></th>\n",
       "      <th>romi</th>\n",
       "    </tr>\n",
       "    <tr>\n",
       "      <th>first_purchase_date</th>\n",
       "      <th></th>\n",
       "    </tr>\n",
       "  </thead>\n",
       "  <tbody>\n",
       "    <tr>\n",
       "      <td>2017-06-01</td>\n",
       "      <td>1.33</td>\n",
       "    </tr>\n",
       "    <tr>\n",
       "      <td>2017-07-01</td>\n",
       "      <td>0.88</td>\n",
       "    </tr>\n",
       "    <tr>\n",
       "      <td>2017-08-01</td>\n",
       "      <td>0.78</td>\n",
       "    </tr>\n",
       "    <tr>\n",
       "      <td>2017-09-01</td>\n",
       "      <td>1.42</td>\n",
       "    </tr>\n",
       "    <tr>\n",
       "      <td>2017-10-01</td>\n",
       "      <td>0.76</td>\n",
       "    </tr>\n",
       "    <tr>\n",
       "      <td>2017-11-01</td>\n",
       "      <td>0.69</td>\n",
       "    </tr>\n",
       "    <tr>\n",
       "      <td>2017-12-01</td>\n",
       "      <td>0.87</td>\n",
       "    </tr>\n",
       "    <tr>\n",
       "      <td>2018-01-01</td>\n",
       "      <td>0.50</td>\n",
       "    </tr>\n",
       "    <tr>\n",
       "      <td>2018-02-01</td>\n",
       "      <td>0.51</td>\n",
       "    </tr>\n",
       "    <tr>\n",
       "      <td>2018-03-01</td>\n",
       "      <td>0.63</td>\n",
       "    </tr>\n",
       "    <tr>\n",
       "      <td>2018-04-01</td>\n",
       "      <td>0.53</td>\n",
       "    </tr>\n",
       "    <tr>\n",
       "      <td>2018-05-01</td>\n",
       "      <td>0.63</td>\n",
       "    </tr>\n",
       "  </tbody>\n",
       "</table>\n",
       "</div>"
      ],
      "text/plain": [
       "                     romi\n",
       "first_purchase_date      \n",
       "2017-06-01           1.33\n",
       "2017-07-01           0.88\n",
       "2017-08-01           0.78\n",
       "2017-09-01           1.42\n",
       "2017-10-01           0.76\n",
       "2017-11-01           0.69\n",
       "2017-12-01           0.87\n",
       "2018-01-01           0.50\n",
       "2018-02-01           0.51\n",
       "2018-03-01           0.63\n",
       "2018-04-01           0.53\n",
       "2018-05-01           0.63"
      ]
     },
     "execution_count": 58,
     "metadata": {},
     "output_type": "execute_result"
    }
   ],
   "source": [
    "cohorts_romi"
   ]
  },
  {
   "cell_type": "code",
   "execution_count": 59,
   "metadata": {},
   "outputs": [
    {
     "data": {
      "text/html": [
       "<div>\n",
       "<style scoped>\n",
       "    .dataframe tbody tr th:only-of-type {\n",
       "        vertical-align: middle;\n",
       "    }\n",
       "\n",
       "    .dataframe tbody tr th {\n",
       "        vertical-align: top;\n",
       "    }\n",
       "\n",
       "    .dataframe thead th {\n",
       "        text-align: right;\n",
       "    }\n",
       "</style>\n",
       "<table border=\"1\" class=\"dataframe\">\n",
       "  <thead>\n",
       "    <tr style=\"text-align: right;\">\n",
       "      <th></th>\n",
       "      <th>source_id</th>\n",
       "      <th>costs</th>\n",
       "      <th>revenue</th>\n",
       "      <th>uid</th>\n",
       "      <th>clients</th>\n",
       "      <th>cac</th>\n",
       "    </tr>\n",
       "  </thead>\n",
       "  <tbody>\n",
       "    <tr>\n",
       "      <td>0</td>\n",
       "      <td>1</td>\n",
       "      <td>20833.27</td>\n",
       "      <td>31090.55</td>\n",
       "      <td>18999</td>\n",
       "      <td>2899.0</td>\n",
       "      <td>7.19</td>\n",
       "    </tr>\n",
       "    <tr>\n",
       "      <td>1</td>\n",
       "      <td>2</td>\n",
       "      <td>42806.04</td>\n",
       "      <td>46923.61</td>\n",
       "      <td>26245</td>\n",
       "      <td>3506.0</td>\n",
       "      <td>12.21</td>\n",
       "    </tr>\n",
       "    <tr>\n",
       "      <td>2</td>\n",
       "      <td>3</td>\n",
       "      <td>141321.63</td>\n",
       "      <td>54511.24</td>\n",
       "      <td>74756</td>\n",
       "      <td>10473.0</td>\n",
       "      <td>13.49</td>\n",
       "    </tr>\n",
       "    <tr>\n",
       "      <td>3</td>\n",
       "      <td>4</td>\n",
       "      <td>61073.60</td>\n",
       "      <td>56696.83</td>\n",
       "      <td>83525</td>\n",
       "      <td>10296.0</td>\n",
       "      <td>5.93</td>\n",
       "    </tr>\n",
       "    <tr>\n",
       "      <td>4</td>\n",
       "      <td>5</td>\n",
       "      <td>51757.10</td>\n",
       "      <td>52624.02</td>\n",
       "      <td>56974</td>\n",
       "      <td>6931.0</td>\n",
       "      <td>7.47</td>\n",
       "    </tr>\n",
       "    <tr>\n",
       "      <td>5</td>\n",
       "      <td>6</td>\n",
       "      <td>0.00</td>\n",
       "      <td>0.00</td>\n",
       "      <td>6</td>\n",
       "      <td>0.0</td>\n",
       "      <td>NaN</td>\n",
       "    </tr>\n",
       "    <tr>\n",
       "      <td>6</td>\n",
       "      <td>7</td>\n",
       "      <td>0.00</td>\n",
       "      <td>1.22</td>\n",
       "      <td>34</td>\n",
       "      <td>1.0</td>\n",
       "      <td>0.00</td>\n",
       "    </tr>\n",
       "    <tr>\n",
       "      <td>7</td>\n",
       "      <td>9</td>\n",
       "      <td>5517.49</td>\n",
       "      <td>5759.40</td>\n",
       "      <td>9264</td>\n",
       "      <td>1088.0</td>\n",
       "      <td>5.07</td>\n",
       "    </tr>\n",
       "    <tr>\n",
       "      <td>8</td>\n",
       "      <td>10</td>\n",
       "      <td>5822.49</td>\n",
       "      <td>4450.33</td>\n",
       "      <td>8067</td>\n",
       "      <td>1329.0</td>\n",
       "      <td>4.38</td>\n",
       "    </tr>\n",
       "  </tbody>\n",
       "</table>\n",
       "</div>"
      ],
      "text/plain": [
       "   source_id      costs   revenue    uid  clients    cac\n",
       "0          1   20833.27  31090.55  18999   2899.0   7.19\n",
       "1          2   42806.04  46923.61  26245   3506.0  12.21\n",
       "2          3  141321.63  54511.24  74756  10473.0  13.49\n",
       "3          4   61073.60  56696.83  83525  10296.0   5.93\n",
       "4          5   51757.10  52624.02  56974   6931.0   7.47\n",
       "5          6       0.00      0.00      6      0.0    NaN\n",
       "6          7       0.00      1.22     34      1.0   0.00\n",
       "7          9    5517.49   5759.40   9264   1088.0   5.07\n",
       "8         10    5822.49   4450.33   8067   1329.0   4.38"
      ]
     },
     "execution_count": 59,
     "metadata": {},
     "output_type": "execute_result"
    }
   ],
   "source": [
    "revenue_uid_costs_per_source"
   ]
  },
  {
   "cell_type": "code",
   "execution_count": 60,
   "metadata": {},
   "outputs": [
    {
     "data": {
      "text/plain": [
       "<matplotlib.axes._subplots.AxesSubplot at 0x7f9bbc02ea90>"
      ]
     },
     "execution_count": 60,
     "metadata": {},
     "output_type": "execute_result"
    },
    {
     "data": {
      "image/png": "[encoded data removed]",
      "text/plain": [
       "<Figure size 936x504 with 1 Axes>"
      ]
     },
     "metadata": {},
     "output_type": "display_data"
    }
   ],
   "source": [
    "revenue_uid_costs_per_source['ltv'] = revenue_uid_costs_per_source['revenue'] / revenue_uid_costs_per_source['clients']\n",
    "revenue_uid_costs_per_source['cac'] = revenue_uid_costs_per_source['costs'] / revenue_uid_costs_per_source['clients']\n",
    "revenue_uid_costs_per_source['romi'] = revenue_uid_costs_per_source['ltv'] / revenue_uid_costs_per_source['cac']\n",
    "revenue_uid_costs_per_source.groupby('source_id').agg({'romi':'mean'}).plot(kind='bar', figsize=(13,7), style='o-', grid=True, alpha=0.8, title='ROMI by sources')"
   ]
  },
  {
   "cell_type": "markdown",
   "metadata": {},
   "source": [
    "# Выводы"
   ]
  },
  {
   "cell_type": "markdown",
   "metadata": {},
   "source": [
    "- Количество пользователей:\n",
    "    - DAU: 908 пользователей (в день);\n",
    "    - WAU: 5716 пользователя (в неделю);\n",
    "    - MAU: 23228 пользователей (в месяц).\n",
    "    \n",
    "- среднее количество сессий в день составляет 987 (то есть в среднем каждый пользователь заходит на ресурс 1 раз в день).\n",
    "\n",
    "- среднестатистическая длительность одной сессии составляет 1 минуту.\n",
    "\n",
    "- Retention довольно низкий (около 4%), лучшие результаты показывает первая когорта;\n",
    "\n",
    "- покупать люди начинают в среднем через 16 минут после начала сессии;\n",
    "\n",
    "- после первого месяцв число покупок резко снижается;\n",
    "\n",
    "- средний чек составляет 5 т.р.;\n",
    "\n",
    "- по показателю LTV первая когорта была самая стабильная - практически в каждом месяце она показывала лучший результат по LTV среди всех когорт; вероятно, это коррелирует с наилучшим показателем Retention этой же когорты.\n",
    "\n",
    "- потратили всего денег: на привлечение - 329131.62, на каждый источник: \n",
    "                                                                         1 - 20833.27 \n",
    "                                                                         2 - 42806.04 \n",
    "                                                                         3 - 141321.63 \n",
    "                                                                         4 - 61073.60 \n",
    "                                                                         5 - 51757.10 \n",
    "                                                                         9 - 5517.49 \n",
    "                                                                         10 - 5822.49.\n",
    "\n",
    "\n",
    "Больше всего средств было потрачено на 3-й источник. Таким образом, пользователи смартфонов оказались дороже для привлечения, чем, например, пользователи ПК. При этом пользователей ПК больше, чем пользователей смартфонов, а расходы на их привлечение окупаются намного лучше.\n",
    "\n",
    "Целесообразно большую часть средств сосредоточить на привлечении пользователей ПК, а также рассмотреть рекламные источники 6 и 7, так как они наиболее выгодны с точки зрения привлечения новых пользователей.\n",
    "Имеет смысл увеличить бюджет на источники 1, 2, 4, 5, так как у них наилучшая окупаемость, и сократить бюджет на источники 3, 9, 10 как на наименее окупающиеся."
   ]
  }
 ],
 "metadata": {
  "kernelspec": {
   "display_name": "Python 3",
   "language": "python",
   "name": "python3"
  },
  "language_info": {
   "codemirror_mode": {
    "name": "ipython",
    "version": 3
   },
   "file_extension": ".py",
   "mimetype": "text/x-python",
   "name": "python",
   "nbconvert_exporter": "python",
   "pygments_lexer": "ipython3",
   "version": "3.7.6"
  }
 },
 "nbformat": 4,
 "nbformat_minor": 2
}
